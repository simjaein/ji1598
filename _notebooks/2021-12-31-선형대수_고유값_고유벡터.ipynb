{
 "cells": [
  {
   "cell_type": "markdown",
   "id": "263af5a7-e423-4109-b192-add65a2b015b",
   "metadata": {
    "tags": []
   },
   "source": [
    "# 선형대수 고유값 고유벡터\n",
    "> 선형대수학 \n",
    "\n",
    "- toc:false\n",
    "- branch: master\n",
    "- badges: true\n",
    "- comments: true\n",
    "- author: 심재인"
   ]
  },
  {
   "cell_type": "markdown",
   "id": "d1ca690d",
   "metadata": {},
   "source": [
    "### 고유값, 고유벡터의 정의"
   ]
  },
  {
   "cell_type": "markdown",
   "id": "097b3a1f",
   "metadata": {},
   "source": [
    "임의의 n$\\times$n 행렬 A에 대하여, 0이 아닌 솔루션 벡터 $\\vec{x}$ 가 존재한다면 숫자 $\\lambda$ 는 행렬 A의 고유값이라고 할 수 있다.\n",
    "\n",
    "$A\\vec{x}$ = $\\lambda\\vec{x}$\n",
    "\n",
    "이 때, 솔루션 벡터 $\\vec{x}$ 는 고유값 $\\lambda$ 에 대응하는 고유벡터이다.\n",
    "\n",
    "[주의사항1]\n",
    "영벡터는 고유벡터로 보지 않는다.\n",
    "        \n",
    "$A\\cdot$[000$\\dots$0] = [000$\\dots$0]\n",
    "\n",
    "즉, $\\vec{x}$ = 영벡터라면 $A\\vec{x}$도 영벡터이다.\n",
    "\n",
    "> $A\\vec{x}$ = $\\vec{x}$ = $1\\cdot\\vec{x}$ = $2\\vec{x}$ = $3\\vec{x}$ = $\\dots$\\\n",
    "모든 실수가 고유값임.\n",
    "\n",
    "[주의사항2]\n",
    "고유벡터는 무수히 많다.\n",
    "\n",
    "> $\\vec{x}$ : $\\lambda$ 에 대한 고유벡터\\\n",
    "$\\Rightarrow$ $k\\vec{x}$ : $\\lambda$ 에 대한 고유벡터\\\n",
    "($2\\vec{x}$, $3\\vec{x}$, $-\\vec{x}$,$\\dots$\n",
    "\n",
    "> $A\\vec{x}$ = $\\lambda\\vec{x}$\\\n",
    "$\\Rightarrow$ $A$$(2\\vec{x})$ = $2$$(A\\vec{x})$ = $2\\lambda\\vec{x}$ = $\\lambda$$(2\\vec{x})$\\\n",
    "∵ $2\\vec{x}$ 도 $\\lambda$ 에 대한 고유벡터\n"
   ]
  },
  {
   "cell_type": "markdown",
   "id": "5a29d289",
   "metadata": {},
   "source": [
    "### [고유값 구하기]\n",
    "\n",
    "ex) $A$ = $\\left[\\begin{array}{rrr} \n",
    "0&1\\\\\n",
    "1&0\\\\\n",
    "\\end{array}\\right]$\n",
    "#### 1) 고유값 구하기\n",
    "|$A$-$\\lambda$ɪ| = 0의 해\\\n",
    "$\\lambda^2$ - 1 = 0\\\n",
    "∵ $\\lambda$ = $\\pm$1\\\n",
    "∵ 1,-1이 $A$의 고유값"
   ]
  },
  {
   "cell_type": "markdown",
   "id": "56365ea1",
   "metadata": {},
   "source": [
    "### [고유벡터 구하기] $\\leftarrow$ 연립일차방정식 ($A$-$\\lambda$ɪ)$\\vec{x}$ = $\\vec{0}$의 해\n",
    "$ⅰ$) $\\lambda$ = 1에 대한 고유벡터 : $\\vec{x}$ = $\\left[\\begin{array}{rrr} \n",
    "t\\\\\n",
    "t\\\\\n",
    "\\end{array}\\right]$ (t$\\neq$0)\n",
    "\n",
    "$A$-$\\lambda$ɪ = $\\left[\\begin{array}{rrr} \n",
    "-1&1\\\\\n",
    "1&-1\\\\\n",
    "\\end{array}\\right]$\n",
    "\n",
    "$A$ = $\\left[\\begin{array}{rrr} \n",
    "0&1\\\\\n",
    "1&0\\\\\n",
    "\\end{array}\\right]$\n",
    "\n",
    "$A$ = $\\left[\\begin{array}{rrr} \n",
    "0&1|0\\\\\n",
    "1&0|0\\\\\n",
    "\\end{array}\\right]$ $\\sim$ \n",
    "$\\left[\\begin{array}{rrr} \n",
    "0&0|0\\\\\n",
    "1&-1|0\\\\\n",
    "\\end{array}\\right]$ $\\sim$ $\\left[\\begin{array}{rrr} \n",
    "1&-1|0\\\\\n",
    "0&0|0\\\\\n",
    "\\end{array}\\right]$\n",
    "\n",
    "> ∵x - y = 0\\\n",
    "∵ {x = t, y = t"
   ]
  },
  {
   "cell_type": "markdown",
   "id": "f5051a26",
   "metadata": {},
   "source": [
    "$ⅱ$) $\\lambda$ = -1에 대한 고유벡터 : $\\vec{x}$ = $\\left[\\begin{array}{rrr} \n",
    "s\\\\\n",
    "-s\\\\\n",
    "\\end{array}\\right]$ (s$\\neq$0)\n",
    "\n",
    "$A$-$\\lambda$ɪ = $\\left[\\begin{array}{rrr} \n",
    "1&1\\\\\n",
    "1&1\\\\\n",
    "\\end{array}\\right]$\n",
    "\n",
    "$A$ = $\\left[\\begin{array}{rrr} \n",
    "1&1|0\\\\\n",
    "1&1|0\\\\\n",
    "\\end{array}\\right]$ $\\sim$ $\\left[\\begin{array}{rrr} \n",
    "1&1|0\\\\\n",
    "0&0|0\\\\\n",
    "\\end{array}\\right]$\n",
    "\n",
    "> ∵ x + y = 0\\\n",
    "∵ {x = s, y = -s"
   ]
  }
 ],
 "metadata": {
  "kernelspec": {
   "display_name": "Python 3 (ipykernel)",
   "language": "python",
   "name": "python3"
  },
  "language_info": {
   "codemirror_mode": {
    "name": "ipython",
    "version": 3
   },
   "file_extension": ".py",
   "mimetype": "text/x-python",
   "name": "python",
   "nbconvert_exporter": "python",
   "pygments_lexer": "ipython3",
   "version": "3.8.12"
  }
 },
 "nbformat": 4,
 "nbformat_minor": 5
}
