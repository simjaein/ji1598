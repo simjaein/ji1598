{
 "cells": [
  {
   "cell_type": "markdown",
   "id": "fe056e64-0b4d-4b4c-ad5a-badcfcd02040",
   "metadata": {},
   "source": [
    "# test "
   ]
  },
  {
   "cell_type": "markdown",
   "id": "8f9a7da7-c857-4377-a14e-67d0ee286756",
   "metadata": {},
   "source": [
    "심재인 "
   ]
  },
  {
   "cell_type": "code",
   "execution_count": null,
   "id": "be63b117-d203-429e-98e3-d2a4080532cf",
   "metadata": {},
   "outputs": [],
   "source": []
  }
 ],
 "metadata": {
  "kernelspec": {
   "display_name": "Python 3",
   "language": "python",
   "name": "python3"
  },
  "language_info": {
   "codemirror_mode": {
    "name": "ipython",
    "version": 3
   },
   "file_extension": ".py",
   "mimetype": "text/x-python",
   "name": "python",
   "nbconvert_exporter": "python",
   "pygments_lexer": "ipython3",
   "version": "3.9.7"
  }
 },
 "nbformat": 4,
 "nbformat_minor": 5
}
