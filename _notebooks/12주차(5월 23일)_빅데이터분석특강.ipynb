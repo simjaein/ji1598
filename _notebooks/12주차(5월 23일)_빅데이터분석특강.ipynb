{
 "cells": [
  {
   "cell_type": "markdown",
   "id": "9a0d8061-69f1-4f26-907b-2bfa16f6befd",
   "metadata": {},
   "source": [
    "# 12주차-5월 23일\n",
    "> 빅데이터분석특강\n",
    "\n",
    "- toc:false\n",
    "- branch: master\n",
    "- badges: true\n",
    "- comments: true\n",
    "- author: 심재인"
   ]
  },
  {
   "cell_type": "markdown",
   "id": "2401d332-0416-489a-a5e7-0c49afac7965",
   "metadata": {},
   "source": [
    "## imports"
   ]
  },
  {
   "cell_type": "code",
   "execution_count": 1,
   "id": "37c0d26b-78f9-4665-a930-d7f0bd353db2",
   "metadata": {},
   "outputs": [],
   "source": [
    "import tensorflow as tf\n",
    "import tensorflow.experimental.numpy as tnp"
   ]
  },
  {
   "cell_type": "code",
   "execution_count": 2,
   "id": "d7e46f02-6fbe-4ff1-859f-bf2fa3bf80f4",
   "metadata": {},
   "outputs": [],
   "source": [
    "tnp.experimental_enable_numpy_behavior()"
   ]
  },
  {
   "cell_type": "code",
   "execution_count": 3,
   "id": "eacd35c8-6681-48e7-a2c5-ba968aea89b2",
   "metadata": {},
   "outputs": [],
   "source": [
    "import matplotlib.pyplot as plt\n",
    "import numpy as np"
   ]
  },
  {
   "cell_type": "markdown",
   "id": "a2225c64-a848-482a-966e-7c207a4bd7c5",
   "metadata": {},
   "source": [
    "## CNN"
   ]
  },
  {
   "cell_type": "markdown",
   "id": "cf39dfa8-e508-4a9a-9d81-ed5e40cca185",
   "metadata": {},
   "source": [
    "### CONV의 역할"
   ]
  },
  {
   "cell_type": "markdown",
   "id": "e4d50ceb-ce63-4e0d-a9ed-d0ab7288b6ae",
   "metadata": {},
   "source": [
    "`-` 데이터생성 (그냥 흑백대비 데이터)"
   ]
  },
  {
   "cell_type": "code",
   "execution_count": 4,
   "id": "ca22652c-0503-4a26-b4e2-a8dd66d642bb",
   "metadata": {},
   "outputs": [
    {
     "name": "stderr",
     "output_type": "stream",
     "text": [
      "2022-05-23 23:39:32.925163: I tensorflow/stream_executor/cuda/cuda_gpu_executor.cc:939] successful NUMA node read from SysFS had negative value (-1), but there must be at least one NUMA node, so returning NUMA node zero\n"
     ]
    },
    {
     "data": {
      "text/plain": [
       "<tf.Tensor: shape=(50, 25), dtype=float64, numpy=\n",
       "array([[10., 10., 10., ..., 10., 10., 10.],\n",
       "       [10., 10., 10., ..., 10., 10., 10.],\n",
       "       [10., 10., 10., ..., 10., 10., 10.],\n",
       "       ...,\n",
       "       [10., 10., 10., ..., 10., 10., 10.],\n",
       "       [10., 10., 10., ..., 10., 10., 10.],\n",
       "       [10., 10., 10., ..., 10., 10., 10.]])>"
      ]
     },
     "execution_count": 4,
     "metadata": {},
     "output_type": "execute_result"
    }
   ],
   "source": [
    "_X1 = tnp.ones([50,25])*10 \n",
    "_X1"
   ]
  },
  {
   "cell_type": "code",
   "execution_count": 5,
   "id": "2079c1e2-84b7-4612-bd18-dffade107542",
   "metadata": {},
   "outputs": [
    {
     "data": {
      "text/plain": [
       "<tf.Tensor: shape=(50, 25), dtype=float64, numpy=\n",
       "array([[0., 0., 0., ..., 0., 0., 0.],\n",
       "       [0., 0., 0., ..., 0., 0., 0.],\n",
       "       [0., 0., 0., ..., 0., 0., 0.],\n",
       "       ...,\n",
       "       [0., 0., 0., ..., 0., 0., 0.],\n",
       "       [0., 0., 0., ..., 0., 0., 0.],\n",
       "       [0., 0., 0., ..., 0., 0., 0.]])>"
      ]
     },
     "execution_count": 5,
     "metadata": {},
     "output_type": "execute_result"
    }
   ],
   "source": [
    "_X2 = tnp.zeros([50,25])*10 \n",
    "_X2"
   ]
  },
  {
   "cell_type": "code",
   "execution_count": 6,
   "id": "384586ad-ff0f-4112-98a4-229fbcb01ffd",
   "metadata": {},
   "outputs": [
    {
     "data": {
      "text/plain": [
       "<tf.Tensor: shape=(50, 50), dtype=float64, numpy=\n",
       "array([[10., 10., 10., ...,  0.,  0.,  0.],\n",
       "       [10., 10., 10., ...,  0.,  0.,  0.],\n",
       "       [10., 10., 10., ...,  0.,  0.,  0.],\n",
       "       ...,\n",
       "       [10., 10., 10., ...,  0.,  0.,  0.],\n",
       "       [10., 10., 10., ...,  0.,  0.,  0.],\n",
       "       [10., 10., 10., ...,  0.,  0.,  0.]])>"
      ]
     },
     "execution_count": 6,
     "metadata": {},
     "output_type": "execute_result"
    }
   ],
   "source": [
    "tf.concat([_X1,_X2],axis=1)"
   ]
  },
  {
   "cell_type": "code",
   "execution_count": 7,
   "id": "c370c53b-d810-4adb-94f5-b256f6805d98",
   "metadata": {},
   "outputs": [
    {
     "data": {
      "text/plain": [
       "<tf.Tensor: shape=(50, 50), dtype=float64, numpy=\n",
       "array([[ 0.43499408,  1.45456255, -0.12998881, ...,  1.5129041 ,\n",
       "         0.47066403, -0.49720409],\n",
       "       [ 0.11804438,  0.4116991 ,  0.57205759, ..., -0.25436728,\n",
       "         0.93140524,  0.79676587],\n",
       "       [ 1.1991391 , -0.93850147,  0.21820187, ...,  0.01887376,\n",
       "         0.61925243,  1.19683334],\n",
       "       ...,\n",
       "       [ 1.49710101, -0.85665272, -0.25338235, ...,  0.87084421,\n",
       "         1.80578589, -0.31722537],\n",
       "       [ 0.86675894, -1.40209603, -0.74336001, ..., -0.63703598,\n",
       "        -0.99654602, -0.13308606],\n",
       "       [-0.55312832, -0.15332784, -1.00842564, ..., -0.57118478,\n",
       "        -1.48817147,  0.53210246]])>"
      ]
     },
     "execution_count": 7,
     "metadata": {},
     "output_type": "execute_result"
    }
   ],
   "source": [
    "_noise = tnp.random.randn(50*50).reshape(50,50)\n",
    "_noise"
   ]
  },
  {
   "cell_type": "code",
   "execution_count": 8,
   "id": "5de31377-592f-4bf2-828b-b9562e958034",
   "metadata": {},
   "outputs": [],
   "source": [
    "XXX = tf.concat([_X1,_X2],axis=1) + _noise"
   ]
  },
  {
   "cell_type": "code",
   "execution_count": 9,
   "id": "a2eb9ad6-4982-4f1d-85ec-cf80a384e2aa",
   "metadata": {},
   "outputs": [],
   "source": [
    "XXX=XXX.reshape(1,50,50,1)"
   ]
  },
  {
   "cell_type": "code",
   "execution_count": 10,
   "id": "6fac4046-98e6-4608-aa73-938c70aa012d",
   "metadata": {},
   "outputs": [
    {
     "data": {
      "text/plain": [
       "<matplotlib.image.AxesImage at 0x7f6b43efd390>"
      ]
     },
     "execution_count": 10,
     "metadata": {},
     "output_type": "execute_result"
    },
    {
     "data": {
      "image/png": "[encoded data removed]",
      "text/plain": [
       "<Figure size 432x288 with 1 Axes>"
      ]
     },
     "metadata": {
      "needs_background": "light"
     },
     "output_type": "display_data"
    }
   ],
   "source": [
    "plt.imshow(XXX.reshape(50,50),cmap='gray')"
   ]
  },
  {
   "cell_type": "markdown",
   "id": "616c8d82-32f8-43b2-843a-867a007e7ae0",
   "metadata": {},
   "source": [
    "`-` conv layer 생성"
   ]
  },
  {
   "cell_type": "code",
   "execution_count": 11,
   "id": "bb8dd800-2755-4a4a-88ff-e986cfadbcb2",
   "metadata": {},
   "outputs": [],
   "source": [
    "conv = tf.keras.layers.Conv2D(2,(2,2))"
   ]
  },
  {
   "cell_type": "code",
   "execution_count": 12,
   "id": "2d732cff-6e57-49ea-9473-cb0c4e2fb6fa",
   "metadata": {},
   "outputs": [
    {
     "data": {
      "text/plain": [
       "[]"
      ]
     },
     "execution_count": 12,
     "metadata": {},
     "output_type": "execute_result"
    }
   ],
   "source": [
    "conv.weights # 처음에는 가중치가 없음"
   ]
  },
  {
   "cell_type": "code",
   "execution_count": 14,
   "id": "7c6931db-b620-4144-9fe2-a4ddea9a81ff",
   "metadata": {},
   "outputs": [
    {
     "data": {
      "text/plain": [
       "[<tf.Variable 'conv2d/kernel:0' shape=(2, 2, 1, 2) dtype=float32, numpy=\n",
       " array([[[[ 0.62044424, -0.14030719]],\n",
       " \n",
       "         [[ 0.51621205,  0.54541904]]],\n",
       " \n",
       " \n",
       "        [[[ 0.02352977,  0.4980232 ]],\n",
       " \n",
       "         [[ 0.4980021 , -0.49668157]]]], dtype=float32)>,\n",
       " <tf.Variable 'conv2d/bias:0' shape=(2,) dtype=float32, numpy=array([0., 0.], dtype=float32)>]"
      ]
     },
     "execution_count": 14,
     "metadata": {},
     "output_type": "execute_result"
    }
   ],
   "source": [
    "conv(XXX) # 가중치를 만들기 위해서 XXX를 conv에 한번 통과시킴\n",
    "conv.weights # 이제 가중치가 생김"
   ]
  },
  {
   "cell_type": "markdown",
   "id": "bbe07b8a-036a-4b1f-9750-b6c796e42525",
   "metadata": {},
   "source": [
    "`-` 가중치의 값을 확인해보자."
   ]
  },
  {
   "cell_type": "code",
   "execution_count": 15,
   "id": "7de647b6-7c08-45ec-b5c8-ef1cc4e22d4e",
   "metadata": {},
   "outputs": [
    {
     "data": {
      "text/plain": [
       "<tf.Variable 'conv2d/kernel:0' shape=(2, 2, 1, 2) dtype=float32, numpy=\n",
       "array([[[[ 0.62044424, -0.14030719]],\n",
       "\n",
       "        [[ 0.51621205,  0.54541904]]],\n",
       "\n",
       "\n",
       "       [[[ 0.02352977,  0.4980232 ]],\n",
       "\n",
       "        [[ 0.4980021 , -0.49668157]]]], dtype=float32)>"
      ]
     },
     "execution_count": 15,
     "metadata": {},
     "output_type": "execute_result"
    }
   ],
   "source": [
    "conv.weights[0] # kernel에 해당하는것 "
   ]
  },
  {
   "cell_type": "code",
   "execution_count": 16,
   "id": "748f1d66-5c82-4e95-ae57-7b7e1568ee01",
   "metadata": {},
   "outputs": [
    {
     "data": {
      "text/plain": [
       "<tf.Variable 'conv2d/bias:0' shape=(2,) dtype=float32, numpy=array([0., 0.], dtype=float32)>"
      ]
     },
     "execution_count": 16,
     "metadata": {},
     "output_type": "execute_result"
    }
   ],
   "source": [
    "conv.weights[1] # bias에 해당하는것"
   ]
  },
  {
   "cell_type": "markdown",
   "id": "640b6df6-5641-4a07-a589-70f5da5ea41b",
   "metadata": {},
   "source": [
    "`-` 필터값을 원하는 것으로 변경해보자."
   ]
  },
  {
   "cell_type": "code",
   "execution_count": 17,
   "id": "b77c7f1a-2c78-4781-afc7-cd97ea33fe46",
   "metadata": {},
   "outputs": [],
   "source": [
    "w0 = [[0.25,0.25],[0.25,0.25]] # 잡티를 제거하는 효과를 준다.\n",
    "w1 = [[-1.0,1.0],[-1.0,1.0]] # 경계를 찾기 좋아보이는 필터이다. (엣지검출)"
   ]
  },
  {
   "cell_type": "code",
   "execution_count": 18,
   "id": "20a2587e-ae7f-45f0-9e81-509f9de73cb0",
   "metadata": {},
   "outputs": [
    {
     "data": {
      "text/plain": [
       "array([[[[ 0.25, -1.  ]],\n",
       "\n",
       "        [[ 0.25,  1.  ]]],\n",
       "\n",
       "\n",
       "       [[[ 0.25, -1.  ]],\n",
       "\n",
       "        [[ 0.25,  1.  ]]]])"
      ]
     },
     "execution_count": 18,
     "metadata": {},
     "output_type": "execute_result"
    }
   ],
   "source": [
    "w=np.concatenate([np.array(w0).reshape(2,2,1,1),np.array(w1).reshape(2,2,1,1)],axis=-1)\n",
    "w"
   ]
  },
  {
   "cell_type": "code",
   "execution_count": 19,
   "id": "946bbc90-8492-428d-a3b3-119c77a0132a",
   "metadata": {},
   "outputs": [
    {
     "data": {
      "text/plain": [
       "array([0., 0.])"
      ]
     },
     "execution_count": 19,
     "metadata": {},
     "output_type": "execute_result"
    }
   ],
   "source": [
    "b= np.array([0.0,0.0])\n",
    "b"
   ]
  },
  {
   "cell_type": "code",
   "execution_count": 20,
   "id": "a139bdb2-ac9c-47c8-baf7-3a22ff008ceb",
   "metadata": {},
   "outputs": [
    {
     "data": {
      "text/plain": [
       "[array([[[[ 0.25, -1.  ]],\n",
       " \n",
       "         [[ 0.25,  1.  ]]],\n",
       " \n",
       " \n",
       "        [[[ 0.25, -1.  ]],\n",
       " \n",
       "         [[ 0.25,  1.  ]]]], dtype=float32),\n",
       " array([0., 0.], dtype=float32)]"
      ]
     },
     "execution_count": 20,
     "metadata": {},
     "output_type": "execute_result"
    }
   ],
   "source": [
    "conv.set_weights([w,b])\n",
    "conv.get_weights()"
   ]
  },
  {
   "cell_type": "markdown",
   "id": "7ff00d9f-abad-44bd-86cc-ea60e39f1a68",
   "metadata": {},
   "source": [
    "- 첫번째는 평균을 구하는 필터,\n",
    "- 두번째는 엣지를 검출하는 필터"
   ]
  },
  {
   "cell_type": "markdown",
   "id": "4ac06eac-bb31-40b2-8d4b-0aa986e6b60b",
   "metadata": {},
   "source": [
    "`-` 필터를 넣은 결과를 확인"
   ]
  },
  {
   "cell_type": "code",
   "execution_count": 21,
   "id": "f540f8e1-a11a-4c0d-8ff8-b2ab2b319855",
   "metadata": {},
   "outputs": [
    {
     "data": {
      "text/plain": [
       "<tf.Tensor: shape=(1, 49, 49), dtype=float32, numpy=\n",
       "array([[[ 1.06048260e+01,  1.05770826e+01,  9.41785812e+00, ...,\n",
       "          4.24636483e-01,  6.65151536e-01,  4.25407767e-01],\n",
       "        [ 1.01975956e+01,  1.00658646e+01,  1.02088728e+01, ...,\n",
       "          2.38381013e-01,  3.28791022e-01,  8.86064231e-01],\n",
       "        [ 1.04460459e+01,  9.94382954e+00,  1.01506004e+01, ...,\n",
       "          4.93386388e-03,  5.66894710e-01,  8.34238470e-01],\n",
       "        ...,\n",
       "        [ 1.03657351e+01,  9.72592545e+00,  9.81220818e+00, ...,\n",
       "          5.10783017e-01,  7.26346791e-01,  1.68213814e-01],\n",
       "        [ 1.00262785e+01,  9.18612766e+00,  9.75990772e+00, ...,\n",
       "         -2.75579393e-02,  2.60762036e-01,  8.97321180e-02],\n",
       "        [ 9.68955231e+00,  9.17319775e+00,  9.22979259e+00, ...,\n",
       "          1.54596567e-03, -9.23234582e-01, -5.21425247e-01]]],\n",
       "      dtype=float32)>"
      ]
     },
     "execution_count": 21,
     "metadata": {},
     "output_type": "execute_result"
    }
   ],
   "source": [
    "XXX0=conv(XXX)[...,0] # 채널0\n",
    "XXX0"
   ]
  },
  {
   "cell_type": "code",
   "execution_count": 22,
   "id": "312c87f3-fa53-4ed8-a497-1db16422b125",
   "metadata": {},
   "outputs": [
    {
     "data": {
      "text/plain": [
       "<tf.Tensor: shape=(1, 49, 49), dtype=float32, numpy=\n",
       "array([[[ 1.3132229 , -1.4241924 , -3.2127066 , ...,  0.8185276 ,\n",
       "          0.14353245, -1.1025076 ],\n",
       "        [-1.8439856 ,  1.3170614 , -0.7450247 , ..., -1.424511  ,\n",
       "          1.7861512 ,  0.44294155],\n",
       "        [-1.6768751 , -0.33199215,  1.1590748 , ...,  2.0713122 ,\n",
       "          0.17653114,  0.89284396],\n",
       "        ...,\n",
       "        [-1.510889  , -1.0483484 ,  1.3934813 , ..., -0.52731544,\n",
       "          1.3895706 , -3.6221027 ],\n",
       "        [-4.622608  ,  1.2620058 ,  1.0331154 , ...,  0.5778482 ,\n",
       "          0.5754316 , -1.2595514 ],\n",
       "        [-1.8690548 , -0.19636154,  0.42274094, ..., -2.4226255 ,\n",
       "         -1.2764968 ,  2.8837337 ]]], dtype=float32)>"
      ]
     },
     "execution_count": 22,
     "metadata": {},
     "output_type": "execute_result"
    }
   ],
   "source": [
    "XXX1=conv(XXX)[...,1] # 채널1\n",
    "XXX1"
   ]
  },
  {
   "cell_type": "markdown",
   "id": "f0ecdc15-f0ac-4408-a4bd-85451282f600",
   "metadata": {},
   "source": [
    "`-` 각 채널을 시각화"
   ]
  },
  {
   "cell_type": "code",
   "execution_count": 23,
   "id": "03df0179-4e4c-4234-8049-27ab952ad579",
   "metadata": {},
   "outputs": [
    {
     "data": {
      "image/png": "[encoded data removed]",
      "text/plain": [
       "<Figure size 432x288 with 4 Axes>"
      ]
     },
     "metadata": {
      "needs_background": "light"
     },
     "output_type": "display_data"
    }
   ],
   "source": [
    "fig, ((ax1,ax2),(ax3,ax4)) = plt.subplots(2,2)"
   ]
  },
  {
   "cell_type": "code",
   "execution_count": 24,
   "id": "615a015c-e3ea-45b4-845b-7ac65e5b48d9",
   "metadata": {},
   "outputs": [
    {
     "data": {
      "text/plain": [
       "<matplotlib.image.AxesImage at 0x7f6b30660790>"
      ]
     },
     "execution_count": 24,
     "metadata": {},
     "output_type": "execute_result"
    }
   ],
   "source": [
    "ax1.imshow(XXX.reshape(50,50),cmap='gray')"
   ]
  },
  {
   "cell_type": "code",
   "execution_count": 25,
   "id": "f00606b3-a94e-4e3c-a2ed-01488920f546",
   "metadata": {},
   "outputs": [
    {
     "data": {
      "text/plain": [
       "<matplotlib.image.AxesImage at 0x7f6b43efe0e0>"
      ]
     },
     "execution_count": 25,
     "metadata": {},
     "output_type": "execute_result"
    }
   ],
   "source": [
    "ax3.imshow(XXX0.reshape(49,49),cmap='gray')"
   ]
  },
  {
   "cell_type": "code",
   "execution_count": 26,
   "id": "0c18ae8d-466b-455c-a93e-b193a0a7062d",
   "metadata": {},
   "outputs": [
    {
     "data": {
      "text/plain": [
       "<matplotlib.image.AxesImage at 0x7f6b30660c70>"
      ]
     },
     "execution_count": 26,
     "metadata": {},
     "output_type": "execute_result"
    }
   ],
   "source": [
    "ax4.imshow(XXX1.reshape(49,49),cmap='gray')"
   ]
  },
  {
   "cell_type": "code",
   "execution_count": 27,
   "id": "79f607de-36df-4fda-ad19-4d59e5c2dc74",
   "metadata": {},
   "outputs": [
    {
     "data": {
      "image/png": "[encoded data removed]",
      "text/plain": [
       "<Figure size 432x288 with 4 Axes>"
      ]
     },
     "execution_count": 27,
     "metadata": {},
     "output_type": "execute_result"
    }
   ],
   "source": [
    "fig"
   ]
  },
  {
   "cell_type": "markdown",
   "id": "ab05b958-f9fe-400a-a865-348933ee8b92",
   "metadata": {},
   "source": [
    "- 2사분면: 원래이미지\n",
    "- 3사분면: 원래이미지 -> 평균을 의미하는 conv적용\n",
    "- 4사분면: 원래이미지 -> 엣지를 검출하는 conv적용"
   ]
  },
  {
   "cell_type": "markdown",
   "id": "3a64dfb5-2afa-4c48-9a6d-6bbfee54dba9",
   "metadata": {},
   "source": [
    "`-` conv(XXX)의 각 채널에 한번더 conv를 통과시켜보자"
   ]
  },
  {
   "cell_type": "code",
   "execution_count": 28,
   "id": "518cf53a-9ab0-4a2f-be61-1c631a10ca0f",
   "metadata": {},
   "outputs": [
    {
     "data": {
      "text/plain": [
       "<tf.Tensor: shape=(1, 48, 48), dtype=float32, numpy=\n",
       "array([[[ 0.42363167, -3.8506002 ,  7.6590166 , ...,  1.3501115 ,\n",
       "          2.535667  , -2.5892496 ],\n",
       "        [ 4.50593   , -0.5710192 , -2.3014793 , ...,  1.9920747 ,\n",
       "          1.315881  , -0.62689686],\n",
       "        [ 0.6287384 , -0.7128773 , -0.25666904, ...,  7.359749  ,\n",
       "         -5.6628413 , -0.5227418 ],\n",
       "        ...,\n",
       "        [-4.64602   ,  0.3820057 ,  4.484874  , ..., -5.436521  ,\n",
       "          7.013876  , -7.2203174 ],\n",
       "        [ 6.3471546 ,  2.2129393 , -1.3012562 , ...,  2.1494873 ,\n",
       "          1.9144695 , -6.8466563 ],\n",
       "        [ 7.5573072 ,  0.39021206, -3.2200584 , ..., -0.03537035,\n",
       "          1.1437122 ,  2.3252475 ]]], dtype=float32)>"
      ]
     },
     "execution_count": 28,
     "metadata": {},
     "output_type": "execute_result"
    }
   ],
   "source": [
    "conv(XXX0.reshape(1,49,49,1))[...,0] ### XXX0 -> 평균필터 <=> XXX -> 평균필터 -> 평균필터\n",
    "conv(XXX0.reshape(1,49,49,1))[...,1] ### XXX0 -> 엣지필터 <=> XXX -> 평균필터 -> 엣지필터\n",
    "conv(XXX1.reshape(1,49,49,1))[...,0] ### XXX1 -> 평균필터 <=> XXX -> 엣지필터 -> 평균필터\n",
    "conv(XXX1.reshape(1,49,49,1))[...,1] ### XXX1 -> 엣지필터 <=> XXX -> 엣지필터 -> 엣지필터"
   ]
  },
  {
   "cell_type": "code",
   "execution_count": 29,
   "id": "f4583c53-3c0d-4a3f-95f2-f64fc50db9f3",
   "metadata": {},
   "outputs": [
    {
     "data": {
      "image/png": "[encoded data removed]",
      "text/plain": [
       "<Figure size 432x288 with 12 Axes>"
      ]
     },
     "metadata": {
      "needs_background": "light"
     },
     "output_type": "display_data"
    }
   ],
   "source": [
    "fig,ax =plt.subplots(3,4)"
   ]
  },
  {
   "cell_type": "code",
   "execution_count": 30,
   "id": "50f8e623-5f23-4952-9ec1-32c95e1f1ede",
   "metadata": {},
   "outputs": [
    {
     "data": {
      "text/plain": [
       "<matplotlib.image.AxesImage at 0x7f6b303890c0>"
      ]
     },
     "execution_count": 30,
     "metadata": {},
     "output_type": "execute_result"
    }
   ],
   "source": [
    "ax[0][0].imshow(XXX.reshape(50,50),cmap='gray') # 원래이미지"
   ]
  },
  {
   "cell_type": "code",
   "execution_count": 31,
   "id": "ee3810ab-eb41-49a7-bebc-27db702fdff5",
   "metadata": {},
   "outputs": [
    {
     "data": {
      "text/plain": [
       "<matplotlib.image.AxesImage at 0x7f6b303af700>"
      ]
     },
     "execution_count": 31,
     "metadata": {},
     "output_type": "execute_result"
    }
   ],
   "source": [
    "ax[1][0].imshow(XXX0.reshape(49,49),cmap='gray') # 원래이미지 -> 평균필터 \n",
    "ax[1][2].imshow(XXX1.reshape(49,49),cmap='gray') # 원래이미지 -> 엣지필터"
   ]
  },
  {
   "cell_type": "code",
   "execution_count": 32,
   "id": "ce1b9c76-f294-4934-9eb6-ff6f125d7093",
   "metadata": {},
   "outputs": [
    {
     "data": {
      "text/plain": [
       "<matplotlib.image.AxesImage at 0x7f6b303d6440>"
      ]
     },
     "execution_count": 32,
     "metadata": {},
     "output_type": "execute_result"
    }
   ],
   "source": [
    "ax[2][0].imshow(conv(XXX0.reshape(1,49,49,1))[...,0].reshape(48,48),cmap='gray') # 원래이미지 -> 평균필터 \n",
    "ax[2][1].imshow(conv(XXX0.reshape(1,49,49,1))[...,1].reshape(48,48),cmap='gray') # 원래이미지 -> 엣지필터\n",
    "ax[2][2].imshow(conv(XXX1.reshape(1,49,49,1))[...,0].reshape(48,48),cmap='gray') # 원래이미지 -> 평균필터 \n",
    "ax[2][3].imshow(conv(XXX1.reshape(1,49,49,1))[...,1].reshape(48,48),cmap='gray') # 원래이미지 -> 엣지필터"
   ]
  },
  {
   "cell_type": "code",
   "execution_count": 33,
   "id": "0722a185-1e0f-4144-96da-2db0dc01715c",
   "metadata": {},
   "outputs": [
    {
     "data": {
      "image/png": "[encoded data removed]",
      "text/plain": [
       "<Figure size 1152x576 with 12 Axes>"
      ]
     },
     "execution_count": 33,
     "metadata": {},
     "output_type": "execute_result"
    }
   ],
   "source": [
    "fig.set_figheight(8)\n",
    "fig.set_figwidth(16)\n",
    "fig.tight_layout()\n",
    "fig"
   ]
  },
  {
   "cell_type": "markdown",
   "id": "f80495f8-3a03-4c58-951f-9f3dfec8511e",
   "metadata": {},
   "source": [
    "`-` 요약 \n",
    "- conv의 weight에 따라서 엣지를 검출하는 필터가 만들어지기도 하고 스무딩의 역할을 하는 필터가 만들어지기도 한다. 그리고 우리는 의미를 알 수 없지만 어떠한 역할을 하는 필터가 만들어질 것이다. \n",
    "- 이것들을 조합하다보면 우연히 이미지를 분류하기에 유리한 특징을 뽑아내는 weight가 맞춰질 수도 있겠다. \n",
    "- 채널수를 많이 만들고 다양한 웨이트조합을 실험하다보면 보다 복잡한 이미지의 특징을 추출할 수도 있을 것이다? \n",
    "- 컨볼루션 레이어의 역할 = 이미지의 특징을 추출하는 역할 "
   ]
  },
  {
   "cell_type": "markdown",
   "id": "7690e1c4-d4b7-419a-867e-3fd655b6d051",
   "metadata": {},
   "source": [
    "`-` 참고: 스트라이드, 패딩\n",
    "- 스트라이드: 윈도우가 1칸씩 이동하는 것이 아니라 2~3칸씩 이동함 \n",
    "- 패딩: 이미지의 가장자리에 정당한 값을 넣어서 (예를들어 0) 컨볼루션을 수행. 따라서 컨볼루션 연산 이후에도 이미지의 크기가 줄어들지 않도록 방지한다."
   ]
  },
  {
   "cell_type": "markdown",
   "id": "10839bfd-3d5e-4d1f-ab8e-5e9645826b6d",
   "metadata": {},
   "source": [
    "### MAXPOOL"
   ]
  },
  {
   "cell_type": "markdown",
   "id": "29d7d0b6-a3ad-4724-9a5f-70a8043831a2",
   "metadata": {},
   "source": [
    "`-` 기본적역할: 이미지의 크기를 줄이는 것\n",
    "- 이미지의의 크기를 줄여야하는 이유? 어차피 최종적으로 10차원으로 줄어야하므로\n",
    "- 이미지의 크기를 줄이면서도 동시에 아주 크리티컬한 특징은 손실없이 유지하고 싶다~"
   ]
  },
  {
   "cell_type": "markdown",
   "id": "e9afb4a2-f723-4e97-bd4e-e8270f34a744",
   "metadata": {},
   "source": [
    "`-` 점점 작은 이미지가 되면서 중요한 특징들은 살아남지만 그렇지 않으면 죽는다. (캐리커쳐 느낌)"
   ]
  },
  {
   "cell_type": "markdown",
   "id": "66e44c33-a441-4280-8fbe-1fcfa427fe8e",
   "metadata": {},
   "source": [
    "`-` 평균이 아니라 max를 쓴 이유는? 그냥 평균보다 나을것이라고 생각했음.. \n",
    "- 그런데 사실은 꼭 그렇지만은 않아서 최근에는 꼭 맥스풀링을 고집하진 않는 추세 (평균풀링도 많이씀)"
   ]
  },
  {
   "cell_type": "markdown",
   "id": "78b1c87a-5bd4-4b98-b914-6d225600b5ac",
   "metadata": {},
   "source": [
    "### CNN 아키텍처의 표현방법"
   ]
  },
  {
   "cell_type": "markdown",
   "id": "77063bdc-ecf9-4525-b93f-62eacd489b97",
   "metadata": {},
   "source": [
    "`-` 아래와 같이 아키텍처의 다이어그램형태로 표현하고 굳이 노드별로 이미지를 그리진 않음"
   ]
  },
  {
   "cell_type": "markdown",
   "id": "4898b656-10ce-4024-8e83-b1ea3a79d04d",
   "metadata": {},
   "source": [
    "![](https://upload.wikimedia.org/wikipedia/commons/thumb/c/cc/Comparison_image_neural_networks.svg/2560px-Comparison_image_neural_networks.svg.png)"
   ]
  },
  {
   "cell_type": "markdown",
   "id": "e5885cfb-c902-43b1-af8d-0883286484b6",
   "metadata": {},
   "source": [
    "`-` 물론 아래와 같이 그리는 경우도 있음"
   ]
  },
  {
   "cell_type": "markdown",
   "id": "0691d2d9-4c8f-425a-9410-d4a682485483",
   "metadata": {},
   "source": [
    "![](https://editor.analyticsvidhya.com/uploads/90650dnn2.jpeg)"
   ]
  },
  {
   "cell_type": "markdown",
   "id": "dd9908d2-8d61-49e6-9c25-ec01ab99b882",
   "metadata": {},
   "source": [
    "### Discusstion about CNN"
   ]
  },
  {
   "cell_type": "markdown",
   "id": "02ea8ccb-aab1-43a4-90ef-932a17f6276d",
   "metadata": {},
   "source": [
    "`-` 격자형태로 배열된 자료를 처리하는데 특화된 신경망이다.\n",
    "- 시계열 (1차원격자), 이미지 (2차원격자)"
   ]
  },
  {
   "cell_type": "markdown",
   "id": "1cbd6627-73db-41c2-8e83-30e5e48603e2",
   "metadata": {},
   "source": [
    "`-` 실제응용에서 엄청난 성공을 거두었다."
   ]
  },
  {
   "cell_type": "markdown",
   "id": "756f730b-d1cc-457f-a585-27912bb48ada",
   "metadata": {},
   "source": [
    "`-` 이름의 유래는 컨볼루션이라는 수학적 연산을 사용했기 때문\n",
    "- 컨볼루션은 조금 특별한 선형변환이다."
   ]
  },
  {
   "cell_type": "markdown",
   "id": "a96bbf1d-f825-4cad-aacd-0a7e457e1c60",
   "metadata": {},
   "source": [
    "`-` 신경과학의 원리가 심층학습에 영향을 미친 사례이다."
   ]
  },
  {
   "cell_type": "markdown",
   "id": "f3e93dd3-6deb-4349-b395-ecda10e92247",
   "metadata": {},
   "source": [
    "### CNN의 모티브"
   ]
  },
  {
   "cell_type": "markdown",
   "id": "b5d75f04-4ad0-4bf1-992a-43b9ced757f1",
   "metadata": {},
   "source": [
    "`-` 희소성 + 매개변수의 공유\n",
    "- 다소 철학적인 모티브임 \n",
    "- 희소성: 이미지를 분석하여 특징을 뽑아낼때 부분부분의 특징만 뽑으면 된다는 의미 \n",
    "- 매개변수의 공유: 한 채널에는 하나의 역할을 하는 커널을 설계하면 된다는 의미 (스무딩이든 엣징이든). 즉 어떤지역은 스무딩, 어떤지역은 엣징을 할 필요가 없이 한채널에서는 엣징만, 다른채널에서는 스무딩만 수행한뒤 여러채널을 조합해서 이해하면 된다."
   ]
  },
  {
   "cell_type": "markdown",
   "id": "58d5dafb-1a7f-4254-a9e6-9e421141cc0c",
   "metadata": {},
   "source": [
    "`-` 매개변수 공유효과로 인해서 파라메터가 확 줄어든다."
   ]
  },
  {
   "cell_type": "markdown",
   "id": "d076e341-4eeb-4afd-b4b3-ff81739d1a3c",
   "metadata": {},
   "source": [
    "(예시) (1,6,6,1) -> (1,5,5,2)\n",
    "- MLP방식이면 (36,50) 의 차원을 가진 매트릭스가 필요함 => 1800개의 매개변수 필요\n",
    "- CNN은 8개의 매개변수 필요"
   ]
  },
  {
   "cell_type": "markdown",
   "id": "aaed89cc-9e92-43fa-a0a2-954414f8a0a3",
   "metadata": {},
   "source": [
    "### CNN 신경망의 기본구조"
   ]
  },
  {
   "cell_type": "markdown",
   "id": "63a11a0b-6133-4243-a8ea-ae91b13fa072",
   "metadata": {},
   "source": [
    "`-` 기본유닛\n",
    "- conv - activation - pooling\n",
    "- conv - conv - activation - pooling"
   ]
  },
  {
   "cell_type": "markdown",
   "id": "95c41735-b1ea-418d-9282-5315e6a2a5cd",
   "metadata": {},
   "source": [
    "## 모형의 성능을 올리기 위한 노력들"
   ]
  },
  {
   "cell_type": "markdown",
   "id": "b1d456f7-41bb-45dc-96b2-5193dc94cee8",
   "metadata": {},
   "source": [
    "### dropout"
   ]
  },
  {
   "cell_type": "markdown",
   "id": "94f24de6-f550-41f3-95e2-412ebd1eb8c7",
   "metadata": {},
   "source": [
    "`-` 아래의 예제를 복습하자."
   ]
  },
  {
   "cell_type": "code",
   "execution_count": 35,
   "id": "041b6ba3-074f-4865-9473-0a1f664164c3",
   "metadata": {},
   "outputs": [
    {
     "data": {
      "text/plain": [
       "[<matplotlib.lines.Line2D at 0x7f6b3010b6a0>]"
      ]
     },
     "execution_count": 35,
     "metadata": {},
     "output_type": "execute_result"
    },
    {
     "data": {
      "image/png": "[encoded data removed]",
      "text/plain": [
       "<Figure size 432x288 with 1 Axes>"
      ]
     },
     "metadata": {
      "needs_background": "light"
     },
     "output_type": "display_data"
    }
   ],
   "source": [
    "np.random.seed(43052)\n",
    "x = np.linspace(0,1,100).reshape(100,1)\n",
    "y = np.random.normal(loc=0,scale=0.01,size=(100,1))\n",
    "plt.plot(x,y)"
   ]
  },
  {
   "cell_type": "code",
   "execution_count": 36,
   "id": "656fc0b8-b724-43a6-9a60-e244c787e767",
   "metadata": {},
   "outputs": [
    {
     "data": {
      "text/plain": [
       "<keras.callbacks.History at 0x7f6b3015bdc0>"
      ]
     },
     "execution_count": 36,
     "metadata": {},
     "output_type": "execute_result"
    }
   ],
   "source": [
    "tf.random.set_seed(43052)\n",
    "net = tf.keras.Sequential()\n",
    "net.add(tf.keras.layers.Dense(2048,activation='relu'))\n",
    "net.add(tf.keras.layers.Dense(1))\n",
    "net.compile(loss='mse',optimizer='adam')\n",
    "net.fit(x,y,epochs=5000,verbose=0,batch_size=100)"
   ]
  },
  {
   "cell_type": "code",
   "execution_count": 37,
   "id": "b6979a34-0b6d-4f11-8c87-98ba366997cc",
   "metadata": {},
   "outputs": [
    {
     "data": {
      "text/plain": [
       "[<matplotlib.lines.Line2D at 0x7f6ad40736a0>]"
      ]
     },
     "execution_count": 37,
     "metadata": {},
     "output_type": "execute_result"
    },
    {
     "data": {
      "image/png": "[encoded data removed]",
      "text/plain": [
       "<Figure size 432x288 with 1 Axes>"
      ]
     },
     "metadata": {
      "needs_background": "light"
     },
     "output_type": "display_data"
    }
   ],
   "source": [
    "plt.plot(x,y)\n",
    "plt.plot(x,net(x),'--')"
   ]
  },
  {
   "cell_type": "markdown",
   "id": "aeaee1dd-b953-46d2-a307-f51952539a3d",
   "metadata": {},
   "source": [
    "`-` train/test로 나누어서 생각해보자."
   ]
  },
  {
   "cell_type": "code",
   "execution_count": 38,
   "id": "f0d482ec-4f00-4d8e-a4a5-9500d4c900ef",
   "metadata": {},
   "outputs": [
    {
     "data": {
      "text/plain": [
       "<keras.callbacks.History at 0x7f6ad40b7df0>"
      ]
     },
     "execution_count": 38,
     "metadata": {},
     "output_type": "execute_result"
    }
   ],
   "source": [
    "tf.random.set_seed(43052)\n",
    "net = tf.keras.Sequential()\n",
    "net.add(tf.keras.layers.Dense(2048,activation='relu'))\n",
    "net.add(tf.keras.layers.Dense(1))\n",
    "net.compile(loss='mse',optimizer='adam')\n",
    "net.fit(x[:80],y[:80],epochs=5000,verbose=0,batch_size=80)"
   ]
  },
  {
   "cell_type": "code",
   "execution_count": 39,
   "id": "561417a2-40d0-4189-877e-ad4abfc72648",
   "metadata": {},
   "outputs": [
    {
     "data": {
      "text/plain": [
       "[<matplotlib.lines.Line2D at 0x7f6aa07a4970>]"
      ]
     },
     "execution_count": 39,
     "metadata": {},
     "output_type": "execute_result"
    },
    {
     "data": {
      "image/png": "[encoded data removed]",
      "text/plain": [
       "<Figure size 432x288 with 1 Axes>"
      ]
     },
     "metadata": {
      "needs_background": "light"
     },
     "output_type": "display_data"
    }
   ],
   "source": [
    "plt.plot(x,y)\n",
    "plt.plot(x[:80],net(x[:80]),'--')"
   ]
  },
  {
   "cell_type": "code",
   "execution_count": 40,
   "id": "b0a69a36-b3b0-4b87-806d-158614539ac7",
   "metadata": {},
   "outputs": [
    {
     "data": {
      "text/plain": [
       "[<matplotlib.lines.Line2D at 0x7f6aa07d2a40>]"
      ]
     },
     "execution_count": 40,
     "metadata": {},
     "output_type": "execute_result"
    },
    {
     "data": {
      "image/png": "[encoded data removed]",
      "text/plain": [
       "<Figure size 432x288 with 1 Axes>"
      ]
     },
     "metadata": {
      "needs_background": "light"
     },
     "output_type": "display_data"
    }
   ],
   "source": [
    "plt.plot(x,y)\n",
    "plt.plot(x[:80],net(x[:80]),'--')\n",
    "plt.plot(x[80:],net(x[80:]),'--')"
   ]
  },
  {
   "cell_type": "markdown",
   "id": "5b80a3c8-5e4b-4086-9427-be36fed5fd78",
   "metadata": {},
   "source": [
    "- train에서 추세를 따라가는게 좋은게 아니다 $\\to$ 그냥 직선으로 핏하는거 이외에는 다 오버핏이다."
   ]
  },
  {
   "cell_type": "markdown",
   "id": "421fd3b7-4edd-473b-8406-32cff5f91e1d",
   "metadata": {},
   "source": [
    "`-` 매 에폭마다 적당히 80%의 노드들을 빼고 학습하자 $\\to$ 너무 잘 학습되는 문제는 생기지 않을 것이다 (과적합이 방지될것이다?)"
   ]
  },
  {
   "cell_type": "code",
   "execution_count": 41,
   "id": "ae29c67e-18a7-4565-a0b6-d8224e94d7df",
   "metadata": {},
   "outputs": [
    {
     "data": {
      "text/plain": [
       "<keras.callbacks.History at 0x7f6aa062bb80>"
      ]
     },
     "execution_count": 41,
     "metadata": {},
     "output_type": "execute_result"
    }
   ],
   "source": [
    "tf.random.set_seed(43052)\n",
    "net = tf.keras.Sequential()\n",
    "net.add(tf.keras.layers.Dense(2048,activation='relu'))\n",
    "net.add(tf.keras.layers.Dropout(0.8))\n",
    "net.add(tf.keras.layers.Dense(1))\n",
    "net.compile(loss='mse',optimizer='adam')\n",
    "net.fit(x[:80],y[:80],epochs=5000,verbose=0,batch_size=80)"
   ]
  },
  {
   "cell_type": "code",
   "execution_count": 42,
   "id": "aa4457ad-6e6e-42b6-9d6d-4872c8a36c67",
   "metadata": {},
   "outputs": [
    {
     "data": {
      "text/plain": [
       "[<matplotlib.lines.Line2D at 0x7f6aa066c940>]"
      ]
     },
     "execution_count": 42,
     "metadata": {},
     "output_type": "execute_result"
    },
    {
     "data": {
      "image/png": "[encoded data removed]",
      "text/plain": [
       "<Figure size 432x288 with 1 Axes>"
      ]
     },
     "metadata": {
      "needs_background": "light"
     },
     "output_type": "display_data"
    }
   ],
   "source": [
    "plt.plot(x,y)\n",
    "plt.plot(x[:80],net(x[:80]),'--')\n",
    "plt.plot(x[80:],net(x[80:]),'--')"
   ]
  },
  {
   "cell_type": "markdown",
   "id": "94fe206e-c30f-4734-986d-303a0d69bd76",
   "metadata": {},
   "source": [
    "`-` 드랍아웃에 대한 summary\n",
    "- 직관: 특정노드를 랜덤으로 off시키면 학습이 방해되어 오히려 과적합이 방지되는 효과가 있다 (그렇지만 진짜 중요한 특징이라면 랜덤으로 off 되더라도 어느정도는 학습될 듯)\n",
    "- note: 드랍아웃을 쓰면 오버핏이 줄어드는건 맞지만 완전히 없어지는건 아니다. \n",
    "- note: 오버핏을 줄이는 유일한 방법이 드랍아웃만 있는것도 아니며, 드랍아웃이 오버핏을 줄이는 가장 효과적인 방법도 아니다 (최근에는 dropout보다 batch nomalization을 사용하는 추세임)"
   ]
  },
  {
   "cell_type": "markdown",
   "id": "18d7db1a-ea51-42fc-8e87-cbb3ed106027",
   "metadata": {},
   "source": [
    "### train / val / test"
   ]
  },
  {
   "cell_type": "markdown",
   "id": "f1fb3143-035f-4538-908b-774fba6a9cf4",
   "metadata": {},
   "source": [
    "`-` data"
   ]
  },
  {
   "cell_type": "code",
   "execution_count": 43,
   "id": "30806456-5606-4a6a-9e7b-6dab97293384",
   "metadata": {},
   "outputs": [],
   "source": [
    "(x_train, y_train), (x_test, y_test) = tf.keras.datasets.fashion_mnist.load_data()"
   ]
  },
  {
   "cell_type": "code",
   "execution_count": 44,
   "id": "51acc536-f139-45c6-a855-4b03fed2aef7",
   "metadata": {},
   "outputs": [],
   "source": [
    "X= x_train.reshape(-1,28,28,1)/255 ## 입력이 0~255 -> 0~1로 표준화 시키는 효과 + float으로 자료형이 바뀜 \n",
    "y = tf.keras.utils.to_categorical(y_train)\n",
    "XX = x_test.reshape(-1,28,28,1)/255\n",
    "yy = tf.keras.utils.to_categorical(y_test)"
   ]
  },
  {
   "cell_type": "code",
   "execution_count": 45,
   "id": "9573db9f-2e79-4de8-9a3f-b50d844756c3",
   "metadata": {},
   "outputs": [],
   "source": [
    "net = tf.keras.Sequential()\n",
    "net.add(tf.keras.layers.Flatten())\n",
    "net.add(tf.keras.layers.Dense(50,activation='relu'))\n",
    "net.add(tf.keras.layers.Dense(10,activation='softmax'))\n",
    "net.compile(optimizer='adam',loss=tf.losses.categorical_crossentropy,metrics='accuracy')"
   ]
  },
  {
   "cell_type": "code",
   "execution_count": 47,
   "id": "41f3d434-3656-41dd-b364-b602b95353dd",
   "metadata": {
    "scrolled": true,
    "tags": []
   },
   "outputs": [
    {
     "name": "stdout",
     "output_type": "stream",
     "text": [
      "Epoch 1/200\n",
      "240/240 [==============================] - 0s 1ms/step - loss: 0.0771 - accuracy: 0.9730 - val_loss: 0.6902 - val_accuracy: 0.8716\n",
      "Epoch 2/200\n",
      "240/240 [==============================] - 0s 1ms/step - loss: 0.0766 - accuracy: 0.9739 - val_loss: 0.6385 - val_accuracy: 0.8742\n",
      "Epoch 3/200\n",
      "240/240 [==============================] - 0s 1ms/step - loss: 0.0710 - accuracy: 0.9760 - val_loss: 0.6561 - val_accuracy: 0.8745\n",
      "Epoch 4/200\n",
      "240/240 [==============================] - 0s 2ms/step - loss: 0.0737 - accuracy: 0.9741 - val_loss: 0.6628 - val_accuracy: 0.8733\n",
      "Epoch 5/200\n",
      "240/240 [==============================] - 0s 2ms/step - loss: 0.0722 - accuracy: 0.9761 - val_loss: 0.6443 - val_accuracy: 0.8732\n",
      "Epoch 6/200\n",
      "240/240 [==============================] - 0s 2ms/step - loss: 0.0719 - accuracy: 0.9750 - val_loss: 0.6691 - val_accuracy: 0.8744\n",
      "Epoch 7/200\n",
      "240/240 [==============================] - 0s 1ms/step - loss: 0.0728 - accuracy: 0.9749 - val_loss: 0.6781 - val_accuracy: 0.8691\n",
      "Epoch 8/200\n",
      "240/240 [==============================] - 0s 1ms/step - loss: 0.0740 - accuracy: 0.9743 - val_loss: 0.6641 - val_accuracy: 0.8771\n",
      "Epoch 9/200\n",
      "240/240 [==============================] - 0s 1ms/step - loss: 0.0718 - accuracy: 0.9753 - val_loss: 0.6655 - val_accuracy: 0.8721\n",
      "Epoch 10/200\n",
      "240/240 [==============================] - 0s 2ms/step - loss: 0.0720 - accuracy: 0.9750 - val_loss: 0.6704 - val_accuracy: 0.8763\n",
      "Epoch 11/200\n",
      "240/240 [==============================] - 0s 2ms/step - loss: 0.0690 - accuracy: 0.9765 - val_loss: 0.6621 - val_accuracy: 0.8759\n",
      "Epoch 12/200\n",
      "240/240 [==============================] - 0s 1ms/step - loss: 0.0702 - accuracy: 0.9757 - val_loss: 0.6716 - val_accuracy: 0.8738\n",
      "Epoch 13/200\n",
      "240/240 [==============================] - 0s 1ms/step - loss: 0.0660 - accuracy: 0.9773 - val_loss: 0.6774 - val_accuracy: 0.8735\n",
      "Epoch 14/200\n",
      "240/240 [==============================] - 0s 1ms/step - loss: 0.0698 - accuracy: 0.9760 - val_loss: 0.6820 - val_accuracy: 0.8727\n",
      "Epoch 15/200\n",
      "240/240 [==============================] - 0s 1ms/step - loss: 0.0706 - accuracy: 0.9758 - val_loss: 0.6954 - val_accuracy: 0.8718\n",
      "Epoch 16/200\n",
      "240/240 [==============================] - 0s 1ms/step - loss: 0.0673 - accuracy: 0.9765 - val_loss: 0.7017 - val_accuracy: 0.8692\n",
      "Epoch 17/200\n",
      "240/240 [==============================] - 0s 2ms/step - loss: 0.0702 - accuracy: 0.9753 - val_loss: 0.6831 - val_accuracy: 0.8752\n",
      "Epoch 18/200\n",
      "240/240 [==============================] - 0s 1ms/step - loss: 0.0691 - accuracy: 0.9763 - val_loss: 0.6874 - val_accuracy: 0.8738\n",
      "Epoch 19/200\n",
      "240/240 [==============================] - 0s 1ms/step - loss: 0.0667 - accuracy: 0.9774 - val_loss: 0.6781 - val_accuracy: 0.8745\n",
      "Epoch 20/200\n",
      "240/240 [==============================] - 0s 1ms/step - loss: 0.0677 - accuracy: 0.9771 - val_loss: 0.7054 - val_accuracy: 0.8708\n",
      "Epoch 21/200\n",
      "240/240 [==============================] - 0s 1ms/step - loss: 0.0709 - accuracy: 0.9753 - val_loss: 0.6916 - val_accuracy: 0.8742\n",
      "Epoch 22/200\n",
      "240/240 [==============================] - 0s 1ms/step - loss: 0.0648 - accuracy: 0.9777 - val_loss: 0.6897 - val_accuracy: 0.8765\n",
      "Epoch 23/200\n",
      "240/240 [==============================] - 0s 1ms/step - loss: 0.0664 - accuracy: 0.9774 - val_loss: 0.7135 - val_accuracy: 0.8704\n",
      "Epoch 24/200\n",
      "240/240 [==============================] - 0s 2ms/step - loss: 0.0729 - accuracy: 0.9741 - val_loss: 0.7146 - val_accuracy: 0.8702\n",
      "Epoch 25/200\n",
      "240/240 [==============================] - 0s 2ms/step - loss: 0.0693 - accuracy: 0.9757 - val_loss: 0.7003 - val_accuracy: 0.8719\n",
      "Epoch 26/200\n",
      "240/240 [==============================] - 0s 2ms/step - loss: 0.0621 - accuracy: 0.9796 - val_loss: 0.7048 - val_accuracy: 0.8745\n",
      "Epoch 27/200\n",
      "240/240 [==============================] - 0s 2ms/step - loss: 0.0630 - accuracy: 0.9782 - val_loss: 0.7192 - val_accuracy: 0.8695\n",
      "Epoch 28/200\n",
      "240/240 [==============================] - 0s 2ms/step - loss: 0.0623 - accuracy: 0.9789 - val_loss: 0.7405 - val_accuracy: 0.8672\n",
      "Epoch 29/200\n",
      "240/240 [==============================] - 0s 1ms/step - loss: 0.0645 - accuracy: 0.9782 - val_loss: 0.7072 - val_accuracy: 0.8758\n",
      "Epoch 30/200\n",
      "240/240 [==============================] - 0s 2ms/step - loss: 0.0653 - accuracy: 0.9778 - val_loss: 0.6988 - val_accuracy: 0.8716\n",
      "Epoch 31/200\n",
      "240/240 [==============================] - 0s 2ms/step - loss: 0.0688 - accuracy: 0.9758 - val_loss: 0.7206 - val_accuracy: 0.8727\n",
      "Epoch 32/200\n",
      "240/240 [==============================] - 0s 1ms/step - loss: 0.0606 - accuracy: 0.9795 - val_loss: 0.7197 - val_accuracy: 0.8719\n",
      "Epoch 33/200\n",
      "240/240 [==============================] - 0s 2ms/step - loss: 0.0656 - accuracy: 0.9775 - val_loss: 0.7437 - val_accuracy: 0.8703\n",
      "Epoch 34/200\n",
      "240/240 [==============================] - 0s 1ms/step - loss: 0.0664 - accuracy: 0.9770 - val_loss: 0.7183 - val_accuracy: 0.8729\n",
      "Epoch 35/200\n",
      "240/240 [==============================] - 0s 2ms/step - loss: 0.0601 - accuracy: 0.9798 - val_loss: 0.7310 - val_accuracy: 0.8708\n",
      "Epoch 36/200\n",
      "240/240 [==============================] - 1s 2ms/step - loss: 0.0641 - accuracy: 0.9782 - val_loss: 0.7233 - val_accuracy: 0.8723\n",
      "Epoch 37/200\n",
      "240/240 [==============================] - 0s 2ms/step - loss: 0.0657 - accuracy: 0.9772 - val_loss: 0.7450 - val_accuracy: 0.8708\n",
      "Epoch 38/200\n",
      "240/240 [==============================] - 0s 2ms/step - loss: 0.0723 - accuracy: 0.9745 - val_loss: 0.7440 - val_accuracy: 0.8669\n",
      "Epoch 39/200\n",
      "240/240 [==============================] - 0s 1ms/step - loss: 0.0612 - accuracy: 0.9783 - val_loss: 0.7323 - val_accuracy: 0.8742\n",
      "Epoch 40/200\n",
      "240/240 [==============================] - 0s 1ms/step - loss: 0.0579 - accuracy: 0.9807 - val_loss: 0.7370 - val_accuracy: 0.8726\n",
      "Epoch 41/200\n",
      "240/240 [==============================] - 0s 1ms/step - loss: 0.0573 - accuracy: 0.9810 - val_loss: 0.7472 - val_accuracy: 0.8706\n",
      "Epoch 42/200\n",
      "240/240 [==============================] - 0s 1ms/step - loss: 0.0606 - accuracy: 0.9791 - val_loss: 0.7330 - val_accuracy: 0.8743\n",
      "Epoch 43/200\n",
      "240/240 [==============================] - 1s 2ms/step - loss: 0.0626 - accuracy: 0.9781 - val_loss: 0.7168 - val_accuracy: 0.8723\n",
      "Epoch 44/200\n",
      "240/240 [==============================] - 0s 2ms/step - loss: 0.0557 - accuracy: 0.9819 - val_loss: 0.7318 - val_accuracy: 0.8728\n",
      "Epoch 45/200\n",
      "240/240 [==============================] - 0s 1ms/step - loss: 0.0586 - accuracy: 0.9797 - val_loss: 0.7261 - val_accuracy: 0.8708\n",
      "Epoch 46/200\n",
      "240/240 [==============================] - 1s 2ms/step - loss: 0.0629 - accuracy: 0.9774 - val_loss: 0.7538 - val_accuracy: 0.8704\n",
      "Epoch 47/200\n",
      "240/240 [==============================] - 0s 2ms/step - loss: 0.0620 - accuracy: 0.9781 - val_loss: 0.7597 - val_accuracy: 0.8712\n",
      "Epoch 48/200\n",
      "240/240 [==============================] - 0s 1ms/step - loss: 0.0567 - accuracy: 0.9803 - val_loss: 0.7448 - val_accuracy: 0.8748\n",
      "Epoch 49/200\n",
      "240/240 [==============================] - 0s 1ms/step - loss: 0.0558 - accuracy: 0.9814 - val_loss: 0.7718 - val_accuracy: 0.8689\n",
      "Epoch 50/200\n",
      "240/240 [==============================] - 0s 2ms/step - loss: 0.0660 - accuracy: 0.9776 - val_loss: 0.7407 - val_accuracy: 0.8715\n",
      "Epoch 51/200\n",
      "240/240 [==============================] - 0s 2ms/step - loss: 0.0595 - accuracy: 0.9800 - val_loss: 0.7512 - val_accuracy: 0.8712\n",
      "Epoch 52/200\n",
      "240/240 [==============================] - 0s 2ms/step - loss: 0.0565 - accuracy: 0.9808 - val_loss: 0.7524 - val_accuracy: 0.8742\n",
      "Epoch 53/200\n",
      "240/240 [==============================] - 0s 2ms/step - loss: 0.0568 - accuracy: 0.9809 - val_loss: 0.7683 - val_accuracy: 0.8694\n",
      "Epoch 54/200\n",
      "240/240 [==============================] - 0s 2ms/step - loss: 0.0544 - accuracy: 0.9818 - val_loss: 0.7671 - val_accuracy: 0.8683\n",
      "Epoch 55/200\n",
      "240/240 [==============================] - 0s 2ms/step - loss: 0.0615 - accuracy: 0.9789 - val_loss: 0.7937 - val_accuracy: 0.8665\n",
      "Epoch 56/200\n",
      "240/240 [==============================] - 0s 1ms/step - loss: 0.0563 - accuracy: 0.9812 - val_loss: 0.7678 - val_accuracy: 0.8727\n",
      "Epoch 57/200\n",
      "240/240 [==============================] - 0s 1ms/step - loss: 0.0559 - accuracy: 0.9811 - val_loss: 0.7812 - val_accuracy: 0.8690\n",
      "Epoch 58/200\n",
      "240/240 [==============================] - 0s 2ms/step - loss: 0.0549 - accuracy: 0.9820 - val_loss: 0.7800 - val_accuracy: 0.8678\n",
      "Epoch 59/200\n",
      "240/240 [==============================] - 1s 2ms/step - loss: 0.0547 - accuracy: 0.9815 - val_loss: 0.7767 - val_accuracy: 0.8685\n",
      "Epoch 60/200\n",
      "240/240 [==============================] - 0s 1ms/step - loss: 0.0558 - accuracy: 0.9810 - val_loss: 0.8062 - val_accuracy: 0.8719\n",
      "Epoch 61/200\n",
      "240/240 [==============================] - 0s 1ms/step - loss: 0.0567 - accuracy: 0.9815 - val_loss: 0.7920 - val_accuracy: 0.8682\n",
      "Epoch 62/200\n",
      "240/240 [==============================] - 0s 1ms/step - loss: 0.0542 - accuracy: 0.9817 - val_loss: 0.7736 - val_accuracy: 0.8694\n",
      "Epoch 63/200\n",
      "240/240 [==============================] - 0s 1ms/step - loss: 0.0522 - accuracy: 0.9822 - val_loss: 0.7873 - val_accuracy: 0.8700\n",
      "Epoch 64/200\n",
      "240/240 [==============================] - 0s 1ms/step - loss: 0.0568 - accuracy: 0.9800 - val_loss: 0.7966 - val_accuracy: 0.8687\n",
      "Epoch 65/200\n",
      "240/240 [==============================] - 0s 1ms/step - loss: 0.0538 - accuracy: 0.9822 - val_loss: 0.7927 - val_accuracy: 0.8694\n",
      "Epoch 66/200\n",
      "240/240 [==============================] - 0s 1ms/step - loss: 0.0546 - accuracy: 0.9816 - val_loss: 0.8054 - val_accuracy: 0.8670\n",
      "Epoch 67/200\n",
      "240/240 [==============================] - 0s 1ms/step - loss: 0.0526 - accuracy: 0.9825 - val_loss: 0.7922 - val_accuracy: 0.8721\n",
      "Epoch 68/200\n",
      "240/240 [==============================] - 0s 1ms/step - loss: 0.0487 - accuracy: 0.9840 - val_loss: 0.7952 - val_accuracy: 0.8723\n",
      "Epoch 69/200\n",
      "240/240 [==============================] - 0s 1ms/step - loss: 0.0535 - accuracy: 0.9819 - val_loss: 0.8193 - val_accuracy: 0.8698\n",
      "Epoch 70/200\n",
      "240/240 [==============================] - 0s 1ms/step - loss: 0.0538 - accuracy: 0.9819 - val_loss: 0.8077 - val_accuracy: 0.8691\n",
      "Epoch 71/200\n",
      "240/240 [==============================] - 0s 1ms/step - loss: 0.0589 - accuracy: 0.9803 - val_loss: 0.8097 - val_accuracy: 0.8703\n",
      "Epoch 72/200\n",
      "240/240 [==============================] - 0s 2ms/step - loss: 0.0585 - accuracy: 0.9797 - val_loss: 0.8141 - val_accuracy: 0.8685\n",
      "Epoch 73/200\n",
      "240/240 [==============================] - 0s 2ms/step - loss: 0.0516 - accuracy: 0.9827 - val_loss: 0.7960 - val_accuracy: 0.8703\n",
      "Epoch 74/200\n",
      "240/240 [==============================] - 0s 1ms/step - loss: 0.0520 - accuracy: 0.9821 - val_loss: 0.8277 - val_accuracy: 0.8658\n",
      "Epoch 75/200\n",
      "240/240 [==============================] - 0s 1ms/step - loss: 0.0497 - accuracy: 0.9834 - val_loss: 0.7938 - val_accuracy: 0.8724\n",
      "Epoch 76/200\n",
      "240/240 [==============================] - 0s 1ms/step - loss: 0.0505 - accuracy: 0.9833 - val_loss: 0.8270 - val_accuracy: 0.8681\n",
      "Epoch 77/200\n",
      "240/240 [==============================] - 0s 1ms/step - loss: 0.0566 - accuracy: 0.9800 - val_loss: 0.8092 - val_accuracy: 0.8719\n",
      "Epoch 78/200\n",
      "240/240 [==============================] - 0s 2ms/step - loss: 0.0525 - accuracy: 0.9815 - val_loss: 0.8189 - val_accuracy: 0.8696\n",
      "Epoch 79/200\n",
      "240/240 [==============================] - 0s 2ms/step - loss: 0.0516 - accuracy: 0.9829 - val_loss: 0.8020 - val_accuracy: 0.8692\n",
      "Epoch 80/200\n",
      "240/240 [==============================] - 0s 2ms/step - loss: 0.0507 - accuracy: 0.9824 - val_loss: 0.8235 - val_accuracy: 0.8708\n",
      "Epoch 81/200\n",
      "240/240 [==============================] - 0s 2ms/step - loss: 0.0482 - accuracy: 0.9839 - val_loss: 0.8219 - val_accuracy: 0.8698\n",
      "Epoch 82/200\n",
      "240/240 [==============================] - 0s 2ms/step - loss: 0.0499 - accuracy: 0.9828 - val_loss: 0.8276 - val_accuracy: 0.8723\n",
      "Epoch 83/200\n",
      "240/240 [==============================] - 0s 2ms/step - loss: 0.0471 - accuracy: 0.9849 - val_loss: 0.8220 - val_accuracy: 0.8695\n",
      "Epoch 84/200\n",
      "240/240 [==============================] - 0s 2ms/step - loss: 0.0495 - accuracy: 0.9828 - val_loss: 0.8195 - val_accuracy: 0.8700\n",
      "Epoch 85/200\n",
      "240/240 [==============================] - 0s 2ms/step - loss: 0.0495 - accuracy: 0.9830 - val_loss: 0.8500 - val_accuracy: 0.8676\n",
      "Epoch 86/200\n",
      "240/240 [==============================] - 0s 2ms/step - loss: 0.0526 - accuracy: 0.9825 - val_loss: 0.8281 - val_accuracy: 0.8691\n",
      "Epoch 87/200\n",
      "240/240 [==============================] - 0s 1ms/step - loss: 0.0492 - accuracy: 0.9837 - val_loss: 0.8501 - val_accuracy: 0.8681\n",
      "Epoch 88/200\n",
      "240/240 [==============================] - 0s 1ms/step - loss: 0.0497 - accuracy: 0.9829 - val_loss: 0.8432 - val_accuracy: 0.8712\n",
      "Epoch 89/200\n",
      "240/240 [==============================] - 0s 1ms/step - loss: 0.0519 - accuracy: 0.9820 - val_loss: 0.8455 - val_accuracy: 0.8697\n",
      "Epoch 90/200\n",
      "240/240 [==============================] - 0s 1ms/step - loss: 0.0520 - accuracy: 0.9824 - val_loss: 0.8293 - val_accuracy: 0.8712\n",
      "Epoch 91/200\n",
      "240/240 [==============================] - 0s 1ms/step - loss: 0.0519 - accuracy: 0.9830 - val_loss: 0.8459 - val_accuracy: 0.8710\n",
      "Epoch 92/200\n",
      "240/240 [==============================] - 0s 1ms/step - loss: 0.0511 - accuracy: 0.9825 - val_loss: 0.8433 - val_accuracy: 0.8702\n",
      "Epoch 93/200\n",
      "240/240 [==============================] - 0s 1ms/step - loss: 0.0483 - accuracy: 0.9836 - val_loss: 0.8435 - val_accuracy: 0.8712\n",
      "Epoch 94/200\n",
      "240/240 [==============================] - 0s 1ms/step - loss: 0.0446 - accuracy: 0.9853 - val_loss: 0.8354 - val_accuracy: 0.8719\n",
      "Epoch 95/200\n",
      "240/240 [==============================] - 0s 1ms/step - loss: 0.0490 - accuracy: 0.9834 - val_loss: 0.8479 - val_accuracy: 0.8716\n",
      "Epoch 96/200\n",
      "240/240 [==============================] - 0s 2ms/step - loss: 0.0471 - accuracy: 0.9840 - val_loss: 0.8462 - val_accuracy: 0.8704\n",
      "Epoch 97/200\n",
      "240/240 [==============================] - 0s 1ms/step - loss: 0.0486 - accuracy: 0.9838 - val_loss: 0.8436 - val_accuracy: 0.8724\n",
      "Epoch 98/200\n",
      "240/240 [==============================] - 0s 1ms/step - loss: 0.0431 - accuracy: 0.9859 - val_loss: 0.8644 - val_accuracy: 0.8701\n",
      "Epoch 99/200\n",
      "240/240 [==============================] - 0s 1ms/step - loss: 0.0462 - accuracy: 0.9847 - val_loss: 0.8988 - val_accuracy: 0.8646\n",
      "Epoch 100/200\n",
      "240/240 [==============================] - 1s 3ms/step - loss: 0.0545 - accuracy: 0.9805 - val_loss: 0.8701 - val_accuracy: 0.8712\n",
      "Epoch 101/200\n",
      "240/240 [==============================] - 0s 1ms/step - loss: 0.0431 - accuracy: 0.9859 - val_loss: 0.8609 - val_accuracy: 0.8704\n",
      "Epoch 102/200\n",
      "240/240 [==============================] - 0s 2ms/step - loss: 0.0431 - accuracy: 0.9861 - val_loss: 0.8825 - val_accuracy: 0.8690\n",
      "Epoch 103/200\n",
      "240/240 [==============================] - 0s 2ms/step - loss: 0.0445 - accuracy: 0.9854 - val_loss: 0.8679 - val_accuracy: 0.8683\n",
      "Epoch 104/200\n",
      "240/240 [==============================] - 0s 1ms/step - loss: 0.0560 - accuracy: 0.9799 - val_loss: 0.9090 - val_accuracy: 0.8664\n",
      "Epoch 105/200\n",
      "240/240 [==============================] - 0s 2ms/step - loss: 0.0453 - accuracy: 0.9850 - val_loss: 0.9076 - val_accuracy: 0.8648\n",
      "Epoch 106/200\n",
      "240/240 [==============================] - 0s 1ms/step - loss: 0.0457 - accuracy: 0.9846 - val_loss: 0.8938 - val_accuracy: 0.8708\n",
      "Epoch 107/200\n",
      "240/240 [==============================] - 0s 1ms/step - loss: 0.0414 - accuracy: 0.9868 - val_loss: 0.8649 - val_accuracy: 0.8683\n",
      "Epoch 108/200\n",
      "240/240 [==============================] - 0s 1ms/step - loss: 0.0436 - accuracy: 0.9852 - val_loss: 0.8663 - val_accuracy: 0.8716\n",
      "Epoch 109/200\n",
      "240/240 [==============================] - 0s 1ms/step - loss: 0.0399 - accuracy: 0.9872 - val_loss: 0.8772 - val_accuracy: 0.8716\n",
      "Epoch 110/200\n",
      "240/240 [==============================] - 0s 1ms/step - loss: 0.0443 - accuracy: 0.9852 - val_loss: 0.8856 - val_accuracy: 0.8692\n",
      "Epoch 111/200\n",
      "240/240 [==============================] - 0s 2ms/step - loss: 0.0472 - accuracy: 0.9832 - val_loss: 0.8911 - val_accuracy: 0.8686\n",
      "Epoch 112/200\n",
      "240/240 [==============================] - 0s 1ms/step - loss: 0.0426 - accuracy: 0.9857 - val_loss: 0.8829 - val_accuracy: 0.8706\n",
      "Epoch 113/200\n",
      "240/240 [==============================] - 0s 1ms/step - loss: 0.0427 - accuracy: 0.9853 - val_loss: 0.8909 - val_accuracy: 0.8693\n",
      "Epoch 114/200\n",
      "240/240 [==============================] - 0s 2ms/step - loss: 0.0418 - accuracy: 0.9865 - val_loss: 0.8976 - val_accuracy: 0.8652\n",
      "Epoch 115/200\n",
      "240/240 [==============================] - 0s 1ms/step - loss: 0.0455 - accuracy: 0.9844 - val_loss: 0.8963 - val_accuracy: 0.8696\n",
      "Epoch 116/200\n",
      "240/240 [==============================] - 0s 1ms/step - loss: 0.0463 - accuracy: 0.9842 - val_loss: 0.9113 - val_accuracy: 0.8692\n",
      "Epoch 117/200\n",
      "240/240 [==============================] - 0s 2ms/step - loss: 0.0385 - accuracy: 0.9878 - val_loss: 0.8902 - val_accuracy: 0.8722\n",
      "Epoch 118/200\n",
      "240/240 [==============================] - 0s 1ms/step - loss: 0.0446 - accuracy: 0.9845 - val_loss: 0.9086 - val_accuracy: 0.8683\n",
      "Epoch 119/200\n",
      "240/240 [==============================] - 0s 1ms/step - loss: 0.0479 - accuracy: 0.9839 - val_loss: 0.9195 - val_accuracy: 0.8669\n",
      "Epoch 120/200\n",
      "240/240 [==============================] - 0s 1ms/step - loss: 0.0382 - accuracy: 0.9879 - val_loss: 0.8954 - val_accuracy: 0.8708\n",
      "Epoch 121/200\n",
      "240/240 [==============================] - 0s 1ms/step - loss: 0.0374 - accuracy: 0.9882 - val_loss: 0.9315 - val_accuracy: 0.8647\n",
      "Epoch 122/200\n",
      "240/240 [==============================] - 0s 2ms/step - loss: 0.0458 - accuracy: 0.9841 - val_loss: 0.9207 - val_accuracy: 0.8679\n",
      "Epoch 123/200\n",
      "240/240 [==============================] - 0s 2ms/step - loss: 0.0423 - accuracy: 0.9860 - val_loss: 0.9196 - val_accuracy: 0.8695\n",
      "Epoch 124/200\n",
      "240/240 [==============================] - 0s 1ms/step - loss: 0.0510 - accuracy: 0.9820 - val_loss: 0.9335 - val_accuracy: 0.8682\n",
      "Epoch 125/200\n",
      "240/240 [==============================] - 0s 1ms/step - loss: 0.0414 - accuracy: 0.9859 - val_loss: 0.9426 - val_accuracy: 0.8678\n",
      "Epoch 126/200\n",
      "240/240 [==============================] - 0s 1ms/step - loss: 0.0390 - accuracy: 0.9873 - val_loss: 0.9287 - val_accuracy: 0.8678\n",
      "Epoch 127/200\n",
      "240/240 [==============================] - 0s 2ms/step - loss: 0.0402 - accuracy: 0.9867 - val_loss: 0.9231 - val_accuracy: 0.8696\n",
      "Epoch 128/200\n",
      "240/240 [==============================] - 0s 2ms/step - loss: 0.0400 - accuracy: 0.9866 - val_loss: 0.9190 - val_accuracy: 0.8714\n",
      "Epoch 129/200\n",
      "240/240 [==============================] - 0s 2ms/step - loss: 0.0422 - accuracy: 0.9854 - val_loss: 0.9450 - val_accuracy: 0.8681\n",
      "Epoch 130/200\n",
      "240/240 [==============================] - 1s 3ms/step - loss: 0.0417 - accuracy: 0.9860 - val_loss: 0.9362 - val_accuracy: 0.8707\n",
      "Epoch 131/200\n",
      "240/240 [==============================] - 0s 2ms/step - loss: 0.0375 - accuracy: 0.9878 - val_loss: 0.9317 - val_accuracy: 0.8677\n",
      "Epoch 132/200\n",
      "240/240 [==============================] - 0s 2ms/step - loss: 0.0384 - accuracy: 0.9870 - val_loss: 0.9294 - val_accuracy: 0.8715\n",
      "Epoch 133/200\n",
      "240/240 [==============================] - 0s 1ms/step - loss: 0.0418 - accuracy: 0.9860 - val_loss: 0.9383 - val_accuracy: 0.8675\n",
      "Epoch 134/200\n",
      "240/240 [==============================] - 0s 2ms/step - loss: 0.0339 - accuracy: 0.9897 - val_loss: 0.9704 - val_accuracy: 0.8659\n",
      "Epoch 135/200\n",
      "240/240 [==============================] - 0s 1ms/step - loss: 0.0412 - accuracy: 0.9865 - val_loss: 0.9581 - val_accuracy: 0.8680\n",
      "Epoch 136/200\n",
      "240/240 [==============================] - 0s 2ms/step - loss: 0.0384 - accuracy: 0.9877 - val_loss: 0.9372 - val_accuracy: 0.8704\n",
      "Epoch 137/200\n",
      "240/240 [==============================] - 0s 1ms/step - loss: 0.0390 - accuracy: 0.9873 - val_loss: 0.9369 - val_accuracy: 0.8712\n",
      "Epoch 138/200\n",
      "240/240 [==============================] - 0s 1ms/step - loss: 0.0377 - accuracy: 0.9875 - val_loss: 0.9525 - val_accuracy: 0.8681\n",
      "Epoch 139/200\n",
      "240/240 [==============================] - 0s 1ms/step - loss: 0.0388 - accuracy: 0.9870 - val_loss: 0.9416 - val_accuracy: 0.8678\n",
      "Epoch 140/200\n",
      "240/240 [==============================] - 0s 1ms/step - loss: 0.0437 - accuracy: 0.9854 - val_loss: 0.9386 - val_accuracy: 0.8711\n",
      "Epoch 141/200\n",
      "240/240 [==============================] - 0s 1ms/step - loss: 0.0399 - accuracy: 0.9861 - val_loss: 0.9526 - val_accuracy: 0.8717\n",
      "Epoch 142/200\n",
      "240/240 [==============================] - 0s 1ms/step - loss: 0.0388 - accuracy: 0.9867 - val_loss: 0.9454 - val_accuracy: 0.8712\n",
      "Epoch 143/200\n",
      "240/240 [==============================] - 0s 1ms/step - loss: 0.0395 - accuracy: 0.9866 - val_loss: 0.9654 - val_accuracy: 0.8687\n",
      "Epoch 144/200\n",
      "240/240 [==============================] - 0s 1ms/step - loss: 0.0364 - accuracy: 0.9878 - val_loss: 0.9609 - val_accuracy: 0.8693\n",
      "Epoch 145/200\n",
      "240/240 [==============================] - 0s 1ms/step - loss: 0.0377 - accuracy: 0.9879 - val_loss: 0.9783 - val_accuracy: 0.8663\n",
      "Epoch 146/200\n",
      "240/240 [==============================] - 0s 2ms/step - loss: 0.0387 - accuracy: 0.9870 - val_loss: 0.9584 - val_accuracy: 0.8697\n",
      "Epoch 147/200\n",
      "240/240 [==============================] - 0s 2ms/step - loss: 0.0347 - accuracy: 0.9890 - val_loss: 0.9675 - val_accuracy: 0.8695\n",
      "Epoch 148/200\n",
      "240/240 [==============================] - 1s 3ms/step - loss: 0.0424 - accuracy: 0.9852 - val_loss: 0.9917 - val_accuracy: 0.8672\n",
      "Epoch 149/200\n",
      "240/240 [==============================] - 1s 2ms/step - loss: 0.0400 - accuracy: 0.9864 - val_loss: 0.9770 - val_accuracy: 0.8706\n",
      "Epoch 150/200\n",
      "240/240 [==============================] - 0s 2ms/step - loss: 0.0429 - accuracy: 0.9851 - val_loss: 0.9755 - val_accuracy: 0.8684\n",
      "Epoch 151/200\n",
      "240/240 [==============================] - 0s 1ms/step - loss: 0.0322 - accuracy: 0.9898 - val_loss: 0.9690 - val_accuracy: 0.8694\n",
      "Epoch 152/200\n",
      "240/240 [==============================] - 0s 2ms/step - loss: 0.0337 - accuracy: 0.9890 - val_loss: 0.9736 - val_accuracy: 0.8702\n",
      "Epoch 153/200\n",
      "240/240 [==============================] - 0s 2ms/step - loss: 0.0361 - accuracy: 0.9881 - val_loss: 0.9890 - val_accuracy: 0.8663\n",
      "Epoch 154/200\n",
      "240/240 [==============================] - 0s 2ms/step - loss: 0.0363 - accuracy: 0.9875 - val_loss: 0.9750 - val_accuracy: 0.8705\n",
      "Epoch 155/200\n",
      "240/240 [==============================] - 0s 1ms/step - loss: 0.0373 - accuracy: 0.9871 - val_loss: 0.9810 - val_accuracy: 0.8679\n",
      "Epoch 156/200\n",
      "240/240 [==============================] - 0s 2ms/step - loss: 0.0345 - accuracy: 0.9889 - val_loss: 1.0090 - val_accuracy: 0.8702\n",
      "Epoch 157/200\n",
      "240/240 [==============================] - 0s 1ms/step - loss: 0.0354 - accuracy: 0.9882 - val_loss: 0.9888 - val_accuracy: 0.8704\n",
      "Epoch 158/200\n",
      "240/240 [==============================] - 0s 2ms/step - loss: 0.0382 - accuracy: 0.9870 - val_loss: 0.9894 - val_accuracy: 0.8687\n",
      "Epoch 159/200\n",
      "240/240 [==============================] - 0s 1ms/step - loss: 0.0387 - accuracy: 0.9864 - val_loss: 0.9871 - val_accuracy: 0.8691\n",
      "Epoch 160/200\n",
      "240/240 [==============================] - 0s 1ms/step - loss: 0.0370 - accuracy: 0.9878 - val_loss: 1.0045 - val_accuracy: 0.8682\n",
      "Epoch 161/200\n",
      "240/240 [==============================] - 0s 1ms/step - loss: 0.0307 - accuracy: 0.9905 - val_loss: 0.9963 - val_accuracy: 0.8692\n",
      "Epoch 162/200\n",
      "240/240 [==============================] - 0s 1ms/step - loss: 0.0357 - accuracy: 0.9889 - val_loss: 0.9866 - val_accuracy: 0.8678\n",
      "Epoch 163/200\n",
      "240/240 [==============================] - 0s 1ms/step - loss: 0.0338 - accuracy: 0.9887 - val_loss: 1.0141 - val_accuracy: 0.8676\n",
      "Epoch 164/200\n",
      "240/240 [==============================] - 0s 1ms/step - loss: 0.0398 - accuracy: 0.9862 - val_loss: 1.0235 - val_accuracy: 0.8643\n",
      "Epoch 165/200\n",
      "240/240 [==============================] - 0s 1ms/step - loss: 0.0340 - accuracy: 0.9888 - val_loss: 1.0174 - val_accuracy: 0.8682\n",
      "Epoch 166/200\n",
      "240/240 [==============================] - 0s 1ms/step - loss: 0.0303 - accuracy: 0.9908 - val_loss: 1.0147 - val_accuracy: 0.8679\n",
      "Epoch 167/200\n",
      "240/240 [==============================] - 1s 3ms/step - loss: 0.0319 - accuracy: 0.9889 - val_loss: 1.0105 - val_accuracy: 0.8716\n",
      "Epoch 168/200\n",
      "240/240 [==============================] - 0s 2ms/step - loss: 0.0363 - accuracy: 0.9883 - val_loss: 1.0233 - val_accuracy: 0.8662\n",
      "Epoch 169/200\n",
      "240/240 [==============================] - 0s 2ms/step - loss: 0.0374 - accuracy: 0.9876 - val_loss: 1.0395 - val_accuracy: 0.8660\n",
      "Epoch 170/200\n",
      "240/240 [==============================] - 0s 2ms/step - loss: 0.0403 - accuracy: 0.9861 - val_loss: 1.0126 - val_accuracy: 0.8692\n",
      "Epoch 171/200\n",
      "240/240 [==============================] - 0s 2ms/step - loss: 0.0321 - accuracy: 0.9894 - val_loss: 1.0321 - val_accuracy: 0.8682\n",
      "Epoch 172/200\n",
      "240/240 [==============================] - 0s 2ms/step - loss: 0.0387 - accuracy: 0.9864 - val_loss: 1.0318 - val_accuracy: 0.8677\n",
      "Epoch 173/200\n",
      "240/240 [==============================] - 0s 1ms/step - loss: 0.0372 - accuracy: 0.9877 - val_loss: 1.0241 - val_accuracy: 0.8703\n",
      "Epoch 174/200\n",
      "240/240 [==============================] - 0s 1ms/step - loss: 0.0285 - accuracy: 0.9910 - val_loss: 1.0160 - val_accuracy: 0.8687\n",
      "Epoch 175/200\n",
      "240/240 [==============================] - 0s 2ms/step - loss: 0.0336 - accuracy: 0.9891 - val_loss: 1.0236 - val_accuracy: 0.8681\n",
      "Epoch 176/200\n",
      "240/240 [==============================] - 0s 1ms/step - loss: 0.0300 - accuracy: 0.9902 - val_loss: 1.0257 - val_accuracy: 0.8675\n",
      "Epoch 177/200\n",
      "240/240 [==============================] - 0s 2ms/step - loss: 0.0347 - accuracy: 0.9881 - val_loss: 1.0182 - val_accuracy: 0.8693\n",
      "Epoch 178/200\n",
      "240/240 [==============================] - 0s 1ms/step - loss: 0.0355 - accuracy: 0.9876 - val_loss: 1.0316 - val_accuracy: 0.8695\n",
      "Epoch 179/200\n",
      "240/240 [==============================] - 0s 1ms/step - loss: 0.0332 - accuracy: 0.9891 - val_loss: 1.0394 - val_accuracy: 0.8681\n",
      "Epoch 180/200\n",
      "240/240 [==============================] - 0s 1ms/step - loss: 0.0319 - accuracy: 0.9890 - val_loss: 1.0286 - val_accuracy: 0.8695\n",
      "Epoch 181/200\n",
      "240/240 [==============================] - 0s 2ms/step - loss: 0.0379 - accuracy: 0.9875 - val_loss: 1.0489 - val_accuracy: 0.8680\n",
      "Epoch 182/200\n",
      "240/240 [==============================] - 0s 1ms/step - loss: 0.0283 - accuracy: 0.9914 - val_loss: 1.0521 - val_accuracy: 0.8694\n",
      "Epoch 183/200\n",
      "240/240 [==============================] - 0s 2ms/step - loss: 0.0298 - accuracy: 0.9904 - val_loss: 1.0335 - val_accuracy: 0.8712\n",
      "Epoch 184/200\n",
      "240/240 [==============================] - 0s 1ms/step - loss: 0.0291 - accuracy: 0.9909 - val_loss: 1.0462 - val_accuracy: 0.8690\n",
      "Epoch 185/200\n",
      "240/240 [==============================] - 0s 1ms/step - loss: 0.0468 - accuracy: 0.9845 - val_loss: 1.0729 - val_accuracy: 0.8669\n",
      "Epoch 186/200\n",
      "240/240 [==============================] - 0s 2ms/step - loss: 0.0306 - accuracy: 0.9900 - val_loss: 1.0648 - val_accuracy: 0.8647\n",
      "Epoch 187/200\n",
      "240/240 [==============================] - 0s 2ms/step - loss: 0.0292 - accuracy: 0.9908 - val_loss: 1.0574 - val_accuracy: 0.8675\n",
      "Epoch 188/200\n",
      "240/240 [==============================] - 0s 2ms/step - loss: 0.0339 - accuracy: 0.9884 - val_loss: 1.0631 - val_accuracy: 0.8663\n",
      "Epoch 189/200\n",
      "240/240 [==============================] - 0s 1ms/step - loss: 0.0354 - accuracy: 0.9881 - val_loss: 1.0805 - val_accuracy: 0.8651\n",
      "Epoch 190/200\n",
      "240/240 [==============================] - 1s 3ms/step - loss: 0.0291 - accuracy: 0.9907 - val_loss: 1.0623 - val_accuracy: 0.8692\n",
      "Epoch 191/200\n",
      "240/240 [==============================] - 0s 1ms/step - loss: 0.0277 - accuracy: 0.9914 - val_loss: 1.0791 - val_accuracy: 0.8656\n",
      "Epoch 192/200\n",
      "240/240 [==============================] - 0s 1ms/step - loss: 0.0320 - accuracy: 0.9893 - val_loss: 1.0897 - val_accuracy: 0.8663\n",
      "Epoch 193/200\n",
      "240/240 [==============================] - 0s 1ms/step - loss: 0.0309 - accuracy: 0.9897 - val_loss: 1.0804 - val_accuracy: 0.8691\n",
      "Epoch 194/200\n",
      "240/240 [==============================] - 0s 1ms/step - loss: 0.0336 - accuracy: 0.9891 - val_loss: 1.0788 - val_accuracy: 0.8682\n",
      "Epoch 195/200\n",
      "240/240 [==============================] - 0s 1ms/step - loss: 0.0354 - accuracy: 0.9884 - val_loss: 1.0754 - val_accuracy: 0.8715\n",
      "Epoch 196/200\n",
      "240/240 [==============================] - 0s 1ms/step - loss: 0.0291 - accuracy: 0.9903 - val_loss: 1.0659 - val_accuracy: 0.8671\n",
      "Epoch 197/200\n",
      "240/240 [==============================] - 0s 2ms/step - loss: 0.0285 - accuracy: 0.9905 - val_loss: 1.0998 - val_accuracy: 0.8642\n",
      "Epoch 198/200\n",
      "240/240 [==============================] - 0s 2ms/step - loss: 0.0286 - accuracy: 0.9912 - val_loss: 1.0532 - val_accuracy: 0.8687\n",
      "Epoch 199/200\n",
      "240/240 [==============================] - 0s 1ms/step - loss: 0.0268 - accuracy: 0.9918 - val_loss: 1.0850 - val_accuracy: 0.8666\n",
      "Epoch 200/200\n",
      "240/240 [==============================] - 1s 2ms/step - loss: 0.0314 - accuracy: 0.9895 - val_loss: 1.0814 - val_accuracy: 0.8698\n"
     ]
    },
    {
     "data": {
      "text/plain": [
       "<keras.callbacks.History at 0x7f6aa04e2f50>"
      ]
     },
     "execution_count": 47,
     "metadata": {},
     "output_type": "execute_result"
    }
   ],
   "source": [
    "#collapse_output\n",
    "cb1 = tf.keras.callbacks.TensorBoard()\n",
    "net.fit(X,y,epochs=200,batch_size=200,validation_split=0.2,callbacks=cb1,verbose=1)"
   ]
  },
  {
   "cell_type": "markdown",
   "id": "a5038067-bcde-490f-ae2e-51908db5990e",
   "metadata": {},
   "source": [
    "`-` 텐서보드 여는 방법1"
   ]
  },
  {
   "cell_type": "code",
   "execution_count": 48,
   "id": "ae739235-6bd6-4012-b601-980ca8a3f287",
   "metadata": {},
   "outputs": [],
   "source": [
    "%load_ext tensorboard\n",
    "# 주피터노트북 (혹은 주피터랩)에서 텐서보드를 임베딩하여 넣을 수 있도록 도와주는 매직펑션"
   ]
  },
  {
   "cell_type": "code",
   "execution_count": 49,
   "id": "ddac2c7c-74c1-4009-843e-2edecad85ceb",
   "metadata": {},
   "outputs": [
    {
     "name": "stdout",
     "output_type": "stream",
     "text": [
      "/bin/bash: line 0: kill: (313799) - No such process\n"
     ]
    }
   ],
   "source": [
    "!rm -rf logs\n",
    "!kill 313799"
   ]
  },
  {
   "cell_type": "code",
   "execution_count": 50,
   "id": "493445dd-8076-4339-8db5-10a4532c7cdf",
   "metadata": {},
   "outputs": [],
   "source": [
    "#\n",
    "# %tensorboard --logdir logs --host 0.0.0.0\n",
    "# %tensorboard --logdir logs <-- 실습에서는 이렇게 하면됩니다."
   ]
  },
  {
   "cell_type": "markdown",
   "id": "a9ceea09-4aa3-4f61-a3b8-d940d8197977",
   "metadata": {},
   "source": [
    "(참고사항) 파이썬 3.10의 경우 아래의 수정이 필요\n",
    "\n",
    "`?/python3.10/site-packages/tensorboard/_vendor/html5lib/_trie/_base.py` 을 열고\n",
    "```python\n",
    "from collections import Mapping ### 수정전\n",
    "from collections.abc import Mapping ### 수정후 \n",
    "```\n",
    "와 같이 수정한다."
   ]
  },
  {
   "cell_type": "markdown",
   "id": "46030b77-db57-4a66-ba02-e748902ef052",
   "metadata": {},
   "source": [
    "- 왜냐하면 파이썬 3.10부터 `from collections import Mapping` 가 동작하지 않고 `from collections.abc import Mapping` 가 동작하도록 문법이 바뀜"
   ]
  },
  {
   "cell_type": "markdown",
   "id": "b7329fad-2199-4caa-8c8d-2664b68328bc",
   "metadata": {},
   "source": [
    "`-` 텐서보드를 실행하는 방법2"
   ]
  },
  {
   "cell_type": "code",
   "execution_count": 51,
   "id": "ca586692-b253-4c73-a905-7193d6fbaa7d",
   "metadata": {},
   "outputs": [],
   "source": [
    "#\n",
    "# !tensorboard --logdir logs --host 0.0.0.0\n",
    "# !tensorboard --logdir logs <-- 실습에서는 이렇게 하면됩니다."
   ]
  },
  {
   "cell_type": "markdown",
   "id": "9a5ed5b7-1a32-4bf3-a3be-c50d5acbe113",
   "metadata": {},
   "source": [
    "### 조기종료"
   ]
  },
  {
   "cell_type": "markdown",
   "id": "c9a29bf3-b714-4a3c-948e-85ee94b1ca52",
   "metadata": {},
   "source": [
    "`-` 텐서보드를 살펴보니 특정에폭 이후에는 오히려 과적합이 진행되는 듯 하다 (학습할수록 손해인듯 하다) $\\to$ 그 특정에폭까지만 학습해보자"
   ]
  },
  {
   "cell_type": "code",
   "execution_count": 52,
   "id": "0f1ce749-7460-4c05-bd32-79309711fdd6",
   "metadata": {},
   "outputs": [],
   "source": [
    "tf.random.set_seed(43052)\n",
    "net = tf.keras.Sequential()\n",
    "net.add(tf.keras.layers.Flatten())\n",
    "net.add(tf.keras.layers.Dense(5000,activation='relu')) ## 과적합좀 시키려고\n",
    "net.add(tf.keras.layers.Dense(5000,activation='relu')) ## 레이어를 2장만듬 + 레이어하나당 노드수도 증가\n",
    "net.add(tf.keras.layers.Dense(10,activation='softmax'))\n",
    "net.compile(optimizer='adam',loss=tf.losses.categorical_crossentropy,metrics='accuracy')"
   ]
  },
  {
   "cell_type": "code",
   "execution_count": 53,
   "id": "6adaa187-8234-4cd9-8a2a-dd9da9718d87",
   "metadata": {
    "scrolled": true,
    "tags": []
   },
   "outputs": [
    {
     "name": "stdout",
     "output_type": "stream",
     "text": [
      "Epoch 1/200\n",
      "240/240 [==============================] - 2s 7ms/step - loss: 0.5488 - accuracy: 0.8131 - val_loss: 0.4051 - val_accuracy: 0.8520\n",
      "Epoch 2/200\n",
      "240/240 [==============================] - 2s 6ms/step - loss: 0.3584 - accuracy: 0.8662 - val_loss: 0.3804 - val_accuracy: 0.8630\n",
      "Epoch 3/200\n",
      "240/240 [==============================] - 2s 6ms/step - loss: 0.3232 - accuracy: 0.8792 - val_loss: 0.3610 - val_accuracy: 0.8695\n",
      "Epoch 4/200\n",
      "240/240 [==============================] - 2s 7ms/step - loss: 0.2980 - accuracy: 0.8879 - val_loss: 0.3567 - val_accuracy: 0.8760\n",
      "Epoch 5/200\n",
      "240/240 [==============================] - 2s 6ms/step - loss: 0.2795 - accuracy: 0.8957 - val_loss: 0.3310 - val_accuracy: 0.8803\n",
      "Epoch 6/200\n",
      "240/240 [==============================] - 2s 6ms/step - loss: 0.2614 - accuracy: 0.9009 - val_loss: 0.3195 - val_accuracy: 0.8850\n",
      "Epoch 7/200\n",
      "240/240 [==============================] - 2s 6ms/step - loss: 0.2490 - accuracy: 0.9059 - val_loss: 0.3192 - val_accuracy: 0.8846\n",
      "Epoch 8/200\n",
      "240/240 [==============================] - 2s 7ms/step - loss: 0.2365 - accuracy: 0.9102 - val_loss: 0.3190 - val_accuracy: 0.8889\n",
      "Epoch 9/200\n",
      "240/240 [==============================] - 2s 6ms/step - loss: 0.2288 - accuracy: 0.9131 - val_loss: 0.3322 - val_accuracy: 0.8873\n"
     ]
    },
    {
     "data": {
      "text/plain": [
       "<keras.callbacks.History at 0x7f6aa032c040>"
      ]
     },
     "execution_count": 53,
     "metadata": {},
     "output_type": "execute_result"
    }
   ],
   "source": [
    "#\n",
    "#cb1 = tf.keras.callbacks.TensorBoard()\n",
    "cb2 = tf.keras.callbacks.EarlyStopping(patience=1) # val-loss가 1회증가하면 멈추어라 \n",
    "net.fit(X,y,epochs=200,batch_size=200,validation_split=0.2,callbacks=cb2,verbose=1)"
   ]
  },
  {
   "cell_type": "code",
   "execution_count": 54,
   "id": "e3fe4774-d7a5-4cd2-9c7f-89434b177d8f",
   "metadata": {},
   "outputs": [
    {
     "name": "stdout",
     "output_type": "stream",
     "text": [
      "Epoch 1/200\n",
      "240/240 [==============================] - 2s 7ms/step - loss: 0.2203 - accuracy: 0.9153 - val_loss: 0.3388 - val_accuracy: 0.8836\n",
      "Epoch 2/200\n",
      "240/240 [==============================] - 2s 6ms/step - loss: 0.2071 - accuracy: 0.9198 - val_loss: 0.3084 - val_accuracy: 0.8949\n",
      "Epoch 3/200\n",
      "240/240 [==============================] - 2s 6ms/step - loss: 0.1971 - accuracy: 0.9239 - val_loss: 0.3246 - val_accuracy: 0.8938\n"
     ]
    },
    {
     "data": {
      "text/plain": [
       "<keras.callbacks.History at 0x7f6b66a3efb0>"
      ]
     },
     "execution_count": 54,
     "metadata": {},
     "output_type": "execute_result"
    }
   ],
   "source": [
    "#\n",
    "#cb1 = tf.keras.callbacks.TensorBoard()\n",
    "cb2 = tf.keras.callbacks.EarlyStopping(patience=1) # val-loss가 1회증가하면 멈추어라 \n",
    "net.fit(X,y,epochs=200,batch_size=200,validation_split=0.2,callbacks=cb2,verbose=1)"
   ]
  },
  {
   "cell_type": "code",
   "execution_count": 55,
   "id": "a1de657b-8523-4445-8449-77cbe6d33c97",
   "metadata": {},
   "outputs": [
    {
     "name": "stdout",
     "output_type": "stream",
     "text": [
      "Epoch 1/200\n",
      "240/240 [==============================] - 2s 7ms/step - loss: 0.1882 - accuracy: 0.9259 - val_loss: 0.3651 - val_accuracy: 0.8841\n",
      "Epoch 2/200\n",
      "240/240 [==============================] - 2s 6ms/step - loss: 0.1773 - accuracy: 0.9306 - val_loss: 0.3383 - val_accuracy: 0.8951\n",
      "Epoch 3/200\n",
      "240/240 [==============================] - 2s 6ms/step - loss: 0.1697 - accuracy: 0.9350 - val_loss: 0.3640 - val_accuracy: 0.8892\n"
     ]
    },
    {
     "data": {
      "text/plain": [
       "<keras.callbacks.History at 0x7f6b66a6f940>"
      ]
     },
     "execution_count": 55,
     "metadata": {},
     "output_type": "execute_result"
    }
   ],
   "source": [
    "#\n",
    "#cb1 = tf.keras.callbacks.TensorBoard()\n",
    "cb2 = tf.keras.callbacks.EarlyStopping(patience=1) # val-loss가 1회증가하면 멈추어라 \n",
    "net.fit(X,y,epochs=200,batch_size=200,validation_split=0.2,callbacks=cb2,verbose=1)"
   ]
  },
  {
   "cell_type": "code",
   "execution_count": 56,
   "id": "2c61fffb-1f87-4194-91d5-e5c2a646fb06",
   "metadata": {},
   "outputs": [
    {
     "name": "stdout",
     "output_type": "stream",
     "text": [
      "Epoch 1/200\n",
      "240/240 [==============================] - 2s 7ms/step - loss: 0.1662 - accuracy: 0.9349 - val_loss: 0.3734 - val_accuracy: 0.8868\n",
      "Epoch 2/200\n",
      "240/240 [==============================] - 2s 6ms/step - loss: 0.1584 - accuracy: 0.9386 - val_loss: 0.3508 - val_accuracy: 0.8958\n",
      "Epoch 3/200\n",
      "240/240 [==============================] - 2s 6ms/step - loss: 0.1529 - accuracy: 0.9396 - val_loss: 0.3677 - val_accuracy: 0.8910\n"
     ]
    },
    {
     "data": {
      "text/plain": [
       "<keras.callbacks.History at 0x7f6b66a9fdf0>"
      ]
     },
     "execution_count": 56,
     "metadata": {},
     "output_type": "execute_result"
    }
   ],
   "source": [
    "#\n",
    "#cb1 = tf.keras.callbacks.TensorBoard()\n",
    "cb2 = tf.keras.callbacks.EarlyStopping(patience=1) # val-loss가 1회증가하면 멈추어라 \n",
    "net.fit(X,y,epochs=200,batch_size=200,validation_split=0.2,callbacks=cb2,verbose=1)"
   ]
  },
  {
   "cell_type": "code",
   "execution_count": 57,
   "id": "eb43b4c4-2c40-4a9c-9189-4d124158dc96",
   "metadata": {},
   "outputs": [
    {
     "name": "stdout",
     "output_type": "stream",
     "text": [
      "Epoch 1/200\n",
      "240/240 [==============================] - 2s 7ms/step - loss: 0.1430 - accuracy: 0.9437 - val_loss: 0.4126 - val_accuracy: 0.8827\n",
      "Epoch 2/200\n",
      "240/240 [==============================] - 2s 7ms/step - loss: 0.1365 - accuracy: 0.9462 - val_loss: 0.3737 - val_accuracy: 0.8960\n",
      "Epoch 3/200\n",
      "240/240 [==============================] - 2s 6ms/step - loss: 0.1283 - accuracy: 0.9495 - val_loss: 0.3876 - val_accuracy: 0.8944\n"
     ]
    },
    {
     "data": {
      "text/plain": [
       "<keras.callbacks.History at 0x7f6b66a6d030>"
      ]
     },
     "execution_count": 57,
     "metadata": {},
     "output_type": "execute_result"
    }
   ],
   "source": [
    "#\n",
    "#cb1 = tf.keras.callbacks.TensorBoard()\n",
    "cb2 = tf.keras.callbacks.EarlyStopping(patience=1) # val-loss가 1회증가하면 멈추어라 \n",
    "net.fit(X,y,epochs=200,batch_size=200,validation_split=0.2,callbacks=cb2,verbose=1)"
   ]
  },
  {
   "cell_type": "code",
   "execution_count": 58,
   "id": "4dda29a7-0c65-4c1d-b629-c6c0943b8e1f",
   "metadata": {},
   "outputs": [
    {
     "name": "stdout",
     "output_type": "stream",
     "text": [
      "Epoch 1/200\n",
      "240/240 [==============================] - 2s 7ms/step - loss: 0.1251 - accuracy: 0.9519 - val_loss: 0.4141 - val_accuracy: 0.8912\n",
      "Epoch 2/200\n",
      "240/240 [==============================] - 2s 6ms/step - loss: 0.1212 - accuracy: 0.9537 - val_loss: 0.3776 - val_accuracy: 0.8965\n",
      "Epoch 3/200\n",
      "240/240 [==============================] - 2s 6ms/step - loss: 0.1109 - accuracy: 0.9576 - val_loss: 0.4690 - val_accuracy: 0.8857\n"
     ]
    },
    {
     "data": {
      "text/plain": [
       "<keras.callbacks.History at 0x7f6ad4235210>"
      ]
     },
     "execution_count": 58,
     "metadata": {},
     "output_type": "execute_result"
    }
   ],
   "source": [
    "#\n",
    "#cb1 = tf.keras.callbacks.TensorBoard()\n",
    "cb2 = tf.keras.callbacks.EarlyStopping(patience=1) # val-loss가 1회증가하면 멈추어라 \n",
    "net.fit(X,y,epochs=200,batch_size=200,validation_split=0.2,callbacks=cb2,verbose=1)"
   ]
  },
  {
   "cell_type": "markdown",
   "id": "4f99398c-f4b7-4a0a-b2b3-938ef04d94ce",
   "metadata": {},
   "source": [
    "`-` 몇 번 좀 참았다가 멈추면 좋겠다."
   ]
  },
  {
   "cell_type": "code",
   "execution_count": 59,
   "id": "b1eee9d3-7479-42c6-8a94-f2a8e59e3039",
   "metadata": {},
   "outputs": [],
   "source": [
    "tf.random.set_seed(43052)\n",
    "net = tf.keras.Sequential()\n",
    "net.add(tf.keras.layers.Flatten())\n",
    "net.add(tf.keras.layers.Dense(5000,activation='relu')) ## 과적합좀 시키려고 \n",
    "net.add(tf.keras.layers.Dense(5000,activation='relu')) ## 레이어를 2장만듬 + 레이어하나당 노드수도 증가 \n",
    "net.add(tf.keras.layers.Dense(10,activation='softmax'))\n",
    "net.compile(optimizer='adam',loss=tf.losses.categorical_crossentropy,metrics='accuracy')"
   ]
  },
  {
   "cell_type": "code",
   "execution_count": 60,
   "id": "74c77cb8-adf3-4b98-9598-0d2a296540fe",
   "metadata": {},
   "outputs": [
    {
     "name": "stdout",
     "output_type": "stream",
     "text": [
      "Epoch 1/200\n",
      "240/240 [==============================] - 2s 7ms/step - loss: 0.5484 - accuracy: 0.8132 - val_loss: 0.4164 - val_accuracy: 0.8487\n",
      "Epoch 2/200\n",
      "240/240 [==============================] - 2s 6ms/step - loss: 0.3566 - accuracy: 0.8669 - val_loss: 0.3689 - val_accuracy: 0.8686\n",
      "Epoch 3/200\n",
      "240/240 [==============================] - 2s 6ms/step - loss: 0.3232 - accuracy: 0.8783 - val_loss: 0.3544 - val_accuracy: 0.8752\n",
      "Epoch 4/200\n",
      "240/240 [==============================] - 2s 6ms/step - loss: 0.2990 - accuracy: 0.8870 - val_loss: 0.3473 - val_accuracy: 0.8777\n",
      "Epoch 5/200\n",
      "240/240 [==============================] - 2s 6ms/step - loss: 0.2810 - accuracy: 0.8957 - val_loss: 0.3311 - val_accuracy: 0.8807\n",
      "Epoch 6/200\n",
      "240/240 [==============================] - 2s 6ms/step - loss: 0.2646 - accuracy: 0.9004 - val_loss: 0.3191 - val_accuracy: 0.8817\n",
      "Epoch 7/200\n",
      "240/240 [==============================] - 2s 6ms/step - loss: 0.2491 - accuracy: 0.9059 - val_loss: 0.3294 - val_accuracy: 0.8827\n",
      "Epoch 8/200\n",
      "240/240 [==============================] - 2s 6ms/step - loss: 0.2344 - accuracy: 0.9100 - val_loss: 0.3028 - val_accuracy: 0.8935\n",
      "Epoch 9/200\n",
      "240/240 [==============================] - 2s 6ms/step - loss: 0.2274 - accuracy: 0.9139 - val_loss: 0.3184 - val_accuracy: 0.8899\n",
      "Epoch 10/200\n",
      "240/240 [==============================] - 2s 6ms/step - loss: 0.2167 - accuracy: 0.9181 - val_loss: 0.3195 - val_accuracy: 0.8911\n",
      "Epoch 11/200\n",
      "240/240 [==============================] - 2s 6ms/step - loss: 0.2055 - accuracy: 0.9216 - val_loss: 0.3156 - val_accuracy: 0.8926\n",
      "Epoch 12/200\n",
      "240/240 [==============================] - 2s 6ms/step - loss: 0.1963 - accuracy: 0.9262 - val_loss: 0.3011 - val_accuracy: 0.8942\n",
      "Epoch 13/200\n",
      "240/240 [==============================] - 2s 6ms/step - loss: 0.1908 - accuracy: 0.9259 - val_loss: 0.3372 - val_accuracy: 0.8898\n",
      "Epoch 14/200\n",
      "240/240 [==============================] - 2s 6ms/step - loss: 0.1818 - accuracy: 0.9311 - val_loss: 0.3351 - val_accuracy: 0.8947\n",
      "Epoch 15/200\n",
      "240/240 [==============================] - 2s 6ms/step - loss: 0.1771 - accuracy: 0.9318 - val_loss: 0.3212 - val_accuracy: 0.8954\n",
      "Epoch 16/200\n",
      "240/240 [==============================] - 2s 6ms/step - loss: 0.1654 - accuracy: 0.9363 - val_loss: 0.3557 - val_accuracy: 0.8863\n",
      "Epoch 17/200\n",
      "240/240 [==============================] - 1s 6ms/step - loss: 0.1577 - accuracy: 0.9395 - val_loss: 0.3319 - val_accuracy: 0.8953\n"
     ]
    },
    {
     "data": {
      "text/plain": [
       "<keras.callbacks.History at 0x7f6b66afdf90>"
      ]
     },
     "execution_count": 60,
     "metadata": {},
     "output_type": "execute_result"
    }
   ],
   "source": [
    "#\n",
    "#cb1 = tf.keras.callbacks.TensorBoard()\n",
    "cb2 = tf.keras.callbacks.EarlyStopping(patience=5) # 좀더 참다가 멈추어라 \n",
    "net.fit(X,y,epochs=200,batch_size=200,validation_split=0.2,callbacks=cb2,verbose=1)"
   ]
  },
  {
   "cell_type": "markdown",
   "id": "7654c36b-3a01-4449-9fb5-86fd83138005",
   "metadata": {},
   "source": [
    "`-` 텐서보드로 그려보자?"
   ]
  },
  {
   "cell_type": "code",
   "execution_count": 61,
   "id": "4a54346d-de1d-465d-b6cb-60257d374ca5",
   "metadata": {},
   "outputs": [],
   "source": [
    "#\n",
    "# %tensorboard --logdir logs --host 0.0.0.0 \n",
    "# 아무것도 안나온다 -> 왜? cb1을 써야 텐서보드가 나옴"
   ]
  },
  {
   "cell_type": "markdown",
   "id": "3a5c7ca1-0de1-48cc-a565-0ed6a9bbd23b",
   "metadata": {},
   "source": [
    "`-` 조기종료와 텐서보드를 같이 쓰려면?"
   ]
  },
  {
   "cell_type": "code",
   "execution_count": 62,
   "id": "48a60fc6-2290-4c1f-9cc9-7a2a11fe48c9",
   "metadata": {},
   "outputs": [],
   "source": [
    "tf.random.set_seed(43052)\n",
    "net = tf.keras.Sequential()\n",
    "net.add(tf.keras.layers.Flatten())\n",
    "net.add(tf.keras.layers.Dense(50,activation='relu')) \n",
    "net.add(tf.keras.layers.Dense(10,activation='softmax'))\n",
    "net.compile(optimizer='adam',loss=tf.losses.categorical_crossentropy,metrics='accuracy')"
   ]
  },
  {
   "cell_type": "code",
   "execution_count": 63,
   "id": "804dfe18-9c68-4f2b-993a-7183ccb53662",
   "metadata": {},
   "outputs": [
    {
     "name": "stdout",
     "output_type": "stream",
     "text": [
      "Epoch 1/200\n",
      "240/240 [==============================] - 1s 2ms/step - loss: 0.7184 - accuracy: 0.7581 - val_loss: 0.5077 - val_accuracy: 0.8276\n",
      "Epoch 2/200\n",
      "240/240 [==============================] - 0s 1ms/step - loss: 0.4752 - accuracy: 0.8386 - val_loss: 0.4793 - val_accuracy: 0.8342\n",
      "Epoch 3/200\n",
      "240/240 [==============================] - 0s 1ms/step - loss: 0.4304 - accuracy: 0.8517 - val_loss: 0.4386 - val_accuracy: 0.8497\n",
      "Epoch 4/200\n",
      "240/240 [==============================] - 0s 2ms/step - loss: 0.4048 - accuracy: 0.8582 - val_loss: 0.4029 - val_accuracy: 0.8603\n",
      "Epoch 5/200\n",
      "240/240 [==============================] - 0s 2ms/step - loss: 0.3832 - accuracy: 0.8669 - val_loss: 0.3932 - val_accuracy: 0.8619\n",
      "Epoch 6/200\n",
      "240/240 [==============================] - 0s 2ms/step - loss: 0.3697 - accuracy: 0.8705 - val_loss: 0.3842 - val_accuracy: 0.8657\n",
      "Epoch 7/200\n",
      "240/240 [==============================] - 0s 2ms/step - loss: 0.3569 - accuracy: 0.8759 - val_loss: 0.3844 - val_accuracy: 0.8668\n",
      "Epoch 8/200\n",
      "240/240 [==============================] - 0s 2ms/step - loss: 0.3482 - accuracy: 0.8774 - val_loss: 0.3679 - val_accuracy: 0.8708\n",
      "Epoch 9/200\n",
      "240/240 [==============================] - 0s 2ms/step - loss: 0.3387 - accuracy: 0.8799 - val_loss: 0.3602 - val_accuracy: 0.8719\n",
      "Epoch 10/200\n",
      "240/240 [==============================] - 0s 1ms/step - loss: 0.3299 - accuracy: 0.8820 - val_loss: 0.3610 - val_accuracy: 0.8748\n",
      "Epoch 11/200\n",
      "240/240 [==============================] - 0s 1ms/step - loss: 0.3229 - accuracy: 0.8858 - val_loss: 0.3574 - val_accuracy: 0.8717\n",
      "Epoch 12/200\n",
      "240/240 [==============================] - 0s 1ms/step - loss: 0.3157 - accuracy: 0.8873 - val_loss: 0.3572 - val_accuracy: 0.8743\n",
      "Epoch 13/200\n",
      "240/240 [==============================] - 0s 1ms/step - loss: 0.3106 - accuracy: 0.8899 - val_loss: 0.3545 - val_accuracy: 0.8761\n",
      "Epoch 14/200\n",
      "240/240 [==============================] - 0s 2ms/step - loss: 0.3046 - accuracy: 0.8914 - val_loss: 0.3493 - val_accuracy: 0.8759\n",
      "Epoch 15/200\n",
      "240/240 [==============================] - 0s 2ms/step - loss: 0.3011 - accuracy: 0.8928 - val_loss: 0.3483 - val_accuracy: 0.8776\n",
      "Epoch 16/200\n",
      "240/240 [==============================] - 0s 2ms/step - loss: 0.2988 - accuracy: 0.8935 - val_loss: 0.3733 - val_accuracy: 0.8716\n",
      "Epoch 17/200\n",
      "240/240 [==============================] - 0s 1ms/step - loss: 0.2925 - accuracy: 0.8947 - val_loss: 0.3481 - val_accuracy: 0.8768\n",
      "Epoch 18/200\n",
      "240/240 [==============================] - 0s 1ms/step - loss: 0.2880 - accuracy: 0.8951 - val_loss: 0.3396 - val_accuracy: 0.8801\n",
      "Epoch 19/200\n",
      "240/240 [==============================] - 1s 2ms/step - loss: 0.2827 - accuracy: 0.8983 - val_loss: 0.3438 - val_accuracy: 0.8800\n",
      "Epoch 20/200\n",
      "240/240 [==============================] - 0s 1ms/step - loss: 0.2791 - accuracy: 0.8985 - val_loss: 0.3486 - val_accuracy: 0.8773\n",
      "Epoch 21/200\n",
      "240/240 [==============================] - 0s 1ms/step - loss: 0.2765 - accuracy: 0.9009 - val_loss: 0.3350 - val_accuracy: 0.8815\n",
      "Epoch 22/200\n",
      "240/240 [==============================] - 0s 2ms/step - loss: 0.2708 - accuracy: 0.9015 - val_loss: 0.3349 - val_accuracy: 0.8806\n",
      "Epoch 23/200\n",
      "240/240 [==============================] - 0s 1ms/step - loss: 0.2688 - accuracy: 0.9030 - val_loss: 0.3370 - val_accuracy: 0.8823\n",
      "Epoch 24/200\n",
      "240/240 [==============================] - 0s 1ms/step - loss: 0.2659 - accuracy: 0.9044 - val_loss: 0.3424 - val_accuracy: 0.8814\n",
      "Epoch 25/200\n",
      "240/240 [==============================] - 0s 1ms/step - loss: 0.2608 - accuracy: 0.9060 - val_loss: 0.3386 - val_accuracy: 0.8821\n",
      "Epoch 26/200\n",
      "240/240 [==============================] - 0s 1ms/step - loss: 0.2606 - accuracy: 0.9054 - val_loss: 0.3411 - val_accuracy: 0.8809\n",
      "Epoch 27/200\n",
      "240/240 [==============================] - 0s 2ms/step - loss: 0.2575 - accuracy: 0.9073 - val_loss: 0.3383 - val_accuracy: 0.8828\n",
      "Epoch 28/200\n",
      "240/240 [==============================] - 0s 1ms/step - loss: 0.2523 - accuracy: 0.9096 - val_loss: 0.3481 - val_accuracy: 0.8802\n",
      "Epoch 29/200\n",
      "240/240 [==============================] - 0s 1ms/step - loss: 0.2530 - accuracy: 0.9087 - val_loss: 0.3404 - val_accuracy: 0.8810\n"
     ]
    },
    {
     "data": {
      "text/plain": [
       "<keras.callbacks.History at 0x7f6b66b0f730>"
      ]
     },
     "execution_count": 63,
     "metadata": {},
     "output_type": "execute_result"
    }
   ],
   "source": [
    "cb1 = tf.keras.callbacks.TensorBoard()\n",
    "cb2 = tf.keras.callbacks.EarlyStopping(patience=7) # 좀더 참다가 멈추어라 \n",
    "net.fit(X,y,epochs=200,batch_size=200,validation_split=0.2,callbacks=[cb1,cb2])"
   ]
  },
  {
   "cell_type": "code",
   "execution_count": 64,
   "id": "59b4017c-3c49-4c40-ba8b-a2360a32aafa",
   "metadata": {},
   "outputs": [],
   "source": [
    "# \n",
    "# 조기종료가 구현된 그림이 출력\n",
    "# %tensorboard --logdir logs --host 0.0.0.0"
   ]
  },
  {
   "cell_type": "markdown",
   "id": "34095cb3-1707-4cc2-a578-ef18c7b0146e",
   "metadata": {},
   "source": [
    "### 하이퍼파라메터 선택"
   ]
  },
  {
   "cell_type": "markdown",
   "id": "ee3c60ba-283d-4fbb-8d73-9d406d338f13",
   "metadata": {},
   "source": [
    "`-` 하이퍼파라메터 설정"
   ]
  },
  {
   "cell_type": "code",
   "execution_count": 65,
   "id": "67f40498-f0ce-447c-9a89-e147ffb714ad",
   "metadata": {},
   "outputs": [],
   "source": [
    "from tensorboard.plugins.hparams import api as hp"
   ]
  },
  {
   "cell_type": "code",
   "execution_count": 66,
   "id": "864f0918-9bfb-4388-8ee8-cee168205db3",
   "metadata": {},
   "outputs": [
    {
     "name": "stdout",
     "output_type": "stream",
     "text": [
      "313/313 [==============================] - 0s 1ms/step - loss: 0.3695 - accuracy: 0.8715\n"
     ]
    }
   ],
   "source": [
    "a=net.evaluate(XX,yy)"
   ]
  },
  {
   "cell_type": "code",
   "execution_count": 67,
   "id": "f8560049-1635-48c1-a1bf-eb09e79735d0",
   "metadata": {},
   "outputs": [
    {
     "name": "stdout",
     "output_type": "stream",
     "text": [
      "Epoch 1/3\n",
      "1875/1875 [==============================] - 2s 1ms/step - loss: 0.5255 - accuracy: 0.8180 - recall: 0.7546\n",
      "Epoch 2/3\n",
      "1875/1875 [==============================] - 2s 1ms/step - loss: 0.3993 - accuracy: 0.8588 - recall: 0.8294\n",
      "Epoch 3/3\n",
      "1875/1875 [==============================] - 2s 1ms/step - loss: 0.3648 - accuracy: 0.8698 - recall: 0.8443\n",
      "313/313 [==============================] - 0s 1ms/step - loss: 0.4063 - accuracy: 0.8545 - recall: 0.8286\n",
      "Epoch 1/3\n",
      "1875/1875 [==============================] - 2s 1ms/step - loss: 0.7744 - accuracy: 0.7503 - recall: 0.5797\n",
      "Epoch 2/3\n",
      "1875/1875 [==============================] - 2s 1ms/step - loss: 0.5204 - accuracy: 0.8223 - recall: 0.7565\n",
      "Epoch 3/3\n",
      "1875/1875 [==============================] - 2s 1ms/step - loss: 0.4742 - accuracy: 0.8369 - recall: 0.7859\n",
      "313/313 [==============================] - 0s 1ms/step - loss: 0.4899 - accuracy: 0.8304 - recall: 0.7831\n",
      "Epoch 1/3\n",
      "1875/1875 [==============================] - 2s 1ms/step - loss: 0.7502 - accuracy: 0.7356 - recall: 0.6115\n",
      "Epoch 2/3\n",
      "1875/1875 [==============================] - 2s 1ms/step - loss: 0.5738 - accuracy: 0.7923 - recall: 0.7133\n",
      "Epoch 3/3\n",
      "1875/1875 [==============================] - 2s 1ms/step - loss: 0.5473 - accuracy: 0.8037 - recall: 0.7321\n",
      "313/313 [==============================] - 1s 1ms/step - loss: 0.4319 - accuracy: 0.8448 - recall: 0.7919\n",
      "Epoch 1/3\n",
      "1875/1875 [==============================] - 2s 1ms/step - loss: 1.0932 - accuracy: 0.6228 - recall: 0.3971\n",
      "Epoch 2/3\n",
      "1875/1875 [==============================] - 2s 1ms/step - loss: 0.7616 - accuracy: 0.7388 - recall: 0.5956\n",
      "Epoch 3/3\n",
      "1875/1875 [==============================] - 2s 1ms/step - loss: 0.6828 - accuracy: 0.7684 - recall: 0.6478\n",
      "313/313 [==============================] - 0s 1ms/step - loss: 0.5265 - accuracy: 0.8180 - recall: 0.7353\n",
      "Epoch 1/3\n",
      "1875/1875 [==============================] - 3s 2ms/step - loss: 0.4772 - accuracy: 0.8295 - recall: 0.7895\n",
      "Epoch 2/3\n",
      "1875/1875 [==============================] - 3s 2ms/step - loss: 0.3609 - accuracy: 0.8680 - recall: 0.8438\n",
      "Epoch 3/3\n",
      "1875/1875 [==============================] - 3s 2ms/step - loss: 0.3171 - accuracy: 0.8828 - recall: 0.8623\n",
      "313/313 [==============================] - 1s 1ms/step - loss: 0.3699 - accuracy: 0.8661 - recall: 0.8424\n",
      "Epoch 1/3\n",
      "1875/1875 [==============================] - 3s 1ms/step - loss: 0.6685 - accuracy: 0.7883 - recall: 0.6444\n",
      "Epoch 2/3\n",
      "1875/1875 [==============================] - 2s 1ms/step - loss: 0.4815 - accuracy: 0.8372 - recall: 0.7781\n",
      "Epoch 3/3\n",
      "1875/1875 [==============================] - 3s 1ms/step - loss: 0.4408 - accuracy: 0.8498 - recall: 0.8019\n",
      "313/313 [==============================] - 1s 1ms/step - loss: 0.4633 - accuracy: 0.8392 - recall: 0.7959\n",
      "Epoch 1/3\n",
      "1875/1875 [==============================] - 3s 2ms/step - loss: 0.5715 - accuracy: 0.7990 - recall: 0.7554\n",
      "Epoch 2/3\n",
      "1875/1875 [==============================] - 3s 2ms/step - loss: 0.4436 - accuracy: 0.8382 - recall: 0.8055\n",
      "Epoch 3/3\n",
      "1875/1875 [==============================] - 3s 1ms/step - loss: 0.4052 - accuracy: 0.8520 - recall: 0.8222\n",
      "313/313 [==============================] - 1s 2ms/step - loss: 0.3788 - accuracy: 0.8591 - recall: 0.8330\n",
      "Epoch 1/3\n",
      "1875/1875 [==============================] - 3s 1ms/step - loss: 0.6930 - accuracy: 0.7752 - recall: 0.6336\n",
      "Epoch 2/3\n",
      "1875/1875 [==============================] - 2s 1ms/step - loss: 0.5048 - accuracy: 0.8274 - recall: 0.7652\n",
      "Epoch 3/3\n",
      "1875/1875 [==============================] - 2s 1ms/step - loss: 0.4608 - accuracy: 0.8418 - recall: 0.7910\n",
      "313/313 [==============================] - 1s 1ms/step - loss: 0.4627 - accuracy: 0.8394 - recall: 0.7948\n"
     ]
    }
   ],
   "source": [
    "!rm -rf logs\n",
    "for u in [50,5000]: \n",
    "    for d in [0.0,0.5]: \n",
    "        for o in ['adam','sgd']:\n",
    "            logdir = 'logs/hpguebin_{}_{}_{}'.format(u,d,o)\n",
    "            with tf.summary.create_file_writer(logdir).as_default():\n",
    "                net = tf.keras.Sequential()\n",
    "                net.add(tf.keras.layers.Flatten())\n",
    "                net.add(tf.keras.layers.Dense(u,activation='relu'))\n",
    "                net.add(tf.keras.layers.Dropout(d))\n",
    "                net.add(tf.keras.layers.Dense(10,activation='softmax'))\n",
    "                net.compile(optimizer=o,loss=tf.losses.categorical_crossentropy,metrics=['accuracy','Recall'])\n",
    "                cb3 = hp.KerasCallback(logdir, {'유닛수':u, '드랍아웃비율':d, '옵티마이저':o})\n",
    "                net.fit(X,y,epochs=3,callbacks=cb3)\n",
    "                _rslt=net.evaluate(XX,yy)\n",
    "                _mymetric=_rslt[1]*0.8 + _rslt[2]*0.2  \n",
    "                tf.summary.scalar('애큐러시와리컬의가중평균(테스트셋)', _mymetric, step=1)"
   ]
  },
  {
   "cell_type": "code",
   "execution_count": 68,
   "id": "41bf7601-1dc1-4e42-a33e-a9fd73fccf06",
   "metadata": {},
   "outputs": [],
   "source": [
    "#\n",
    "#%tensorboard --logdir logs --host 0.0.0.0"
   ]
  },
  {
   "cell_type": "markdown",
   "id": "436bdccf-c4cf-4574-968c-9247419bec6c",
   "metadata": {},
   "source": [
    "## 숙제"
   ]
  },
  {
   "cell_type": "markdown",
   "id": "b727704f-c37d-4486-9e41-8bcfe35082c8",
   "metadata": {},
   "source": [
    "`-` 아래의 네트워크에서 옵티마이저를 adam, sgd를 선택하여 각각 적합시켜보고 testset의 loss를 성능비교를 하라. epoch은 5정도로 설정하라. \n",
    "```\n",
    "net = tf.keras.Sequential()\n",
    "net.add(tf.keras.layers.Flatten())\n",
    "net.add(tf.keras.layers.Dense(50,activation='relu'))\n",
    "net.add(tf.keras.layers.Dense(50,activation='relu'))\n",
    "net.add(tf.keras.layers.Dense(10,activation='softmax'))\n",
    "net.compile(optimizer=???,loss=tf.losses.categorical_crossentropy,metrics=['accuracy','Recall'])\n",
    "```"
   ]
  }
 ],
 "metadata": {
  "kernelspec": {
   "display_name": "Python 3 (ipykernel)",
   "language": "python",
   "name": "python3"
  },
  "language_info": {
   "codemirror_mode": {
    "name": "ipython",
    "version": 3
   },
   "file_extension": ".py",
   "mimetype": "text/x-python",
   "name": "python",
   "nbconvert_exporter": "python",
   "pygments_lexer": "ipython3",
   "version": "3.10.0"
  }
 },
 "nbformat": 4,
 "nbformat_minor": 5
}
