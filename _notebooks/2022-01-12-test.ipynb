{
 "cells": [
  {
   "cell_type": "markdown",
   "id": "cd15e3d8-b74b-4a91-9753-cc7cfd6226bf",
   "metadata": {},
   "source": [
    "# test "
   ]
  },
  {
   "cell_type": "code",
   "execution_count": 1,
   "id": "dbcf7173-ca06-481a-be97-d05e1bb400ca",
   "metadata": {},
   "outputs": [
    {
     "data": {
      "text/plain": [
       "[1, 2, 3, 4]"
      ]
     },
     "execution_count": 1,
     "metadata": {},
     "output_type": "execute_result"
    }
   ],
   "source": [
    "[1,2,3]+[4]"
   ]
  },
  {
   "cell_type": "markdown",
   "id": "e0c86537-2b2c-4b85-bef6-5dbaa21e69c0",
   "metadata": {},
   "source": [
    "선형대수학 공부 test"
   ]
  },
  {
   "cell_type": "code",
   "execution_count": null,
   "id": "d91a8d96-b52d-4e37-bebb-831680ec6ee4",
   "metadata": {},
   "outputs": [],
   "source": []
  }
 ],
 "metadata": {
  "kernelspec": {
   "display_name": "Python 3",
   "language": "python",
   "name": "python3"
  },
  "language_info": {
   "codemirror_mode": {
    "name": "ipython",
    "version": 3
   },
   "file_extension": ".py",
   "mimetype": "text/x-python",
   "name": "python",
   "nbconvert_exporter": "python",
   "pygments_lexer": "ipython3",
   "version": "3.9.7"
  }
 },
 "nbformat": 4,
 "nbformat_minor": 5
}
