{
 "cells": [
  {
   "cell_type": "markdown",
   "id": "4db94cb7-0aee-4e50-b7ee-1a130d1017c4",
   "metadata": {},
   "source": [
    "# 중간고사 예상문제"
   ]
  },
  {
   "cell_type": "code",
   "execution_count": 14,
   "id": "1c53164f-ac36-46cf-afe6-53e55af842c9",
   "metadata": {},
   "outputs": [],
   "source": [
    "import numpy as np\n",
    "import tensorflow as tf \n",
    "import tensorflow.experimental.numpy as tnp"
   ]
  },
  {
   "cell_type": "code",
   "execution_count": 15,
   "id": "918a7191-b083-4920-bbb3-a06936516d4e",
   "metadata": {},
   "outputs": [],
   "source": [
    "import matplotlib.pyplot as plt"
   ]
  },
  {
   "cell_type": "code",
   "execution_count": 16,
   "id": "33278806-a684-4c1f-910e-46f1205ebe37",
   "metadata": {},
   "outputs": [],
   "source": [
    "tnp.experimental_enable_numpy_behavior()"
   ]
  },
  {
   "cell_type": "markdown",
   "id": "930515ab-5f96-4391-abcd-9ad9ec8be32c",
   "metadata": {},
   "source": [
    "## `1`. 경사하강법과 tf.GradientTape()의 사용방법 (30점)"
   ]
  },
  {
   "cell_type": "markdown",
   "id": "c3e347f7-c1cc-4539-ad66-a4657f14b02b",
   "metadata": {},
   "source": [
    "`(1)` 아래는 $X_i \\overset{iid}{\\sim} N(3,2^2)$ 를 생성하는 코드이다. (10점)"
   ]
  },
  {
   "cell_type": "code",
   "execution_count": 17,
   "id": "f1751181-e6e1-4d55-82d4-7f1260936f89",
   "metadata": {},
   "outputs": [
    {
     "data": {
      "text/plain": [
       "<tf.Tensor: shape=(10000,), dtype=float64, numpy=\n",
       "array([ 4.12539849,  5.46696729,  5.27243374, ...,  2.89712332,\n",
       "        5.01072291, -1.13050477])>"
      ]
     },
     "execution_count": 17,
     "metadata": {},
     "output_type": "execute_result"
    }
   ],
   "source": [
    "tf.random.set_seed(43052)\n",
    "x= tnp.random.randn(10000)*2+3\n",
    "x"
   ]
  },
  {
   "cell_type": "markdown",
   "id": "196283c9-fef6-4116-a8c8-6c7e9d9d2ab2",
   "metadata": {},
   "source": [
    "함수 $L(\\mu,\\sigma)$을 최대화하는 $(\\mu,\\sigma)$를 `tf.GradeintTape()`를 활용하여 추정하라. (경사하강법 혹은 경사상승법을 사용하고 $\\mu$의 초기값은 2로 $\\sigma$의 초기값은 3으로 설정할 것) \n",
    "\n",
    "$$L(\\mu,\\sigma)=\\prod_{i=1}^{n}f(x_i), \\quad f(x_i)=\\frac{1}{\\sqrt{2\\pi}\\sigma}e^{-\\frac{1}{2}(\\frac{x_i-\\mu}{\\sigma})^2}$$\n",
    "\n",
    "**hint**: $L(\\mu,\\sigma)$를 최대화하는 $(\\mu,\\sigma)$는 $\\log L(\\mu,\\sigma)$를 역시 최대화한다는 사실을 이용할 것."
   ]
  },
  {
   "cell_type": "markdown",
   "id": "423464dc-efe7-4e93-a6b9-04d9b1d85de7",
   "metadata": {},
   "source": [
    "**hint:** $\\mu$의 참값은 3, $\\sigma$의 참값은 2이다. (따라서 $\\mu$와 $\\sigma$는 각각 2와 3근처로 추정되어야 한다.) "
   ]
  },
  {
   "cell_type": "markdown",
   "id": "e4ab34e2-534f-41e0-b54f-43c0962b81ff",
   "metadata": {},
   "source": [
    "`-` 풀이"
   ]
  },
  {
   "cell_type": "code",
   "execution_count": 18,
   "id": "4c62b3ff-14e4-4a15-b0c5-7c4ca8df02bd",
   "metadata": {},
   "outputs": [],
   "source": [
    "N = 10000"
   ]
  },
  {
   "cell_type": "code",
   "execution_count": 19,
   "id": "af7ccdec-fb6f-4953-9a58-410d792d2ea3",
   "metadata": {},
   "outputs": [],
   "source": [
    "y_true=(x-3)**2/2**2"
   ]
  },
  {
   "cell_type": "code",
   "execution_count": 20,
   "id": "fb2a49a5-be53-426c-98c6-bd74f3992301",
   "metadata": {},
   "outputs": [],
   "source": [
    "epsilon = tnp.random.randn(N)*0.5\n",
    "y=(x-3)**2/2**2+epsilon"
   ]
  },
  {
   "cell_type": "code",
   "execution_count": 21,
   "id": "93462d03-54d1-4fe4-82f3-992c8f7ea741",
   "metadata": {},
   "outputs": [
    {
     "data": {
      "text/plain": [
       "(TensorShape([10000]), TensorShape([10000]))"
      ]
     },
     "execution_count": 21,
     "metadata": {},
     "output_type": "execute_result"
    }
   ],
   "source": [
    "x.shape, y.shape"
   ]
  },
  {
   "cell_type": "code",
   "execution_count": 22,
   "id": "f14344a6-23ac-4841-803d-15605b9f056b",
   "metadata": {},
   "outputs": [],
   "source": [
    "beta = tf.Variable(2.0)\n",
    "alpha = tf.Variable(3.0)"
   ]
  },
  {
   "cell_type": "code",
   "execution_count": 23,
   "id": "0ac20c12-53bb-4188-b19f-2ea3636a4df6",
   "metadata": {},
   "outputs": [],
   "source": [
    "for epoc in range(1000):   \n",
    "    with tf.GradientTape() as tape: \n",
    "        yhat = (x-beta)**2/(alpha**2)\n",
    "        loss = tf.reduce_sum((y-yhat)**2)/N \n",
    "    slope0,slope1 = tape.gradient(loss,[beta,alpha]) \n",
    "    beta.assign_sub(alpha * slope0) \n",
    "    alpha.assign_sub(alpha * slope1) "
   ]
  },
  {
   "cell_type": "code",
   "execution_count": 24,
   "id": "fd26868b-f249-4289-9706-bc02dca8601f",
   "metadata": {},
   "outputs": [
    {
     "data": {
      "text/plain": [
       "(<tf.Variable 'Variable:0' shape=() dtype=float32, numpy=161.78185>,\n",
       " <tf.Variable 'Variable:0' shape=() dtype=float32, numpy=159.62784>)"
      ]
     },
     "execution_count": 24,
     "metadata": {},
     "output_type": "execute_result"
    }
   ],
   "source": [
    "beta, alpha"
   ]
  },
  {
   "cell_type": "code",
   "execution_count": 25,
   "id": "3abcaca0-bd11-4456-a391-da30978aee14",
   "metadata": {},
   "outputs": [],
   "source": [
    "yhat=(x-beta)**2/(alpha**2)"
   ]
  },
  {
   "cell_type": "code",
   "execution_count": 26,
   "id": "586c2107-5a2d-4a97-bc64-18d6cf998585",
   "metadata": {},
   "outputs": [
    {
     "data": {
      "text/plain": [
       "[<matplotlib.lines.Line2D at 0x7f2a687f37c0>]"
      ]
     },
     "execution_count": 26,
     "metadata": {},
     "output_type": "execute_result"
    },
    {
     "data": {
      "image/png": "[encoded data removed]",
      "text/plain": [
       "<Figure size 432x288 with 1 Axes>"
      ]
     },
     "metadata": {
      "needs_background": "light"
     },
     "output_type": "display_data"
    }
   ],
   "source": [
    "plt.plot(x,y,'.')\n",
    "plt.plot(x,yhat,'r.')"
   ]
  },
  {
   "cell_type": "code",
   "execution_count": null,
   "id": "91f91172-4d6d-4879-bbc4-35068b362d93",
   "metadata": {},
   "outputs": [],
   "source": []
  },
  {
   "cell_type": "code",
   "execution_count": null,
   "id": "cc53cbb4-1b21-4172-acbd-6f03770a926f",
   "metadata": {},
   "outputs": [],
   "source": []
  }
 ],
 "metadata": {
  "kernelspec": {
   "display_name": "Python 3 (ipykernel)",
   "language": "python",
   "name": "python3"
  },
  "language_info": {
   "codemirror_mode": {
    "name": "ipython",
    "version": 3
   },
   "file_extension": ".py",
   "mimetype": "text/x-python",
   "name": "python",
   "nbconvert_exporter": "python",
   "pygments_lexer": "ipython3",
   "version": "3.10.0"
  }
 },
 "nbformat": 4,
 "nbformat_minor": 5
}
